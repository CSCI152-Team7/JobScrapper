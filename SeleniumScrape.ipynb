{
 "cells": [
  {
   "cell_type": "code",
   "execution_count": 1,
   "metadata": {},
   "outputs": [],
   "source": [
    "from selenium import webdriver\n",
    "from selenium.webdriver.common.keys import Keys\n",
    "from selenium.webdriver.common.by import By\n",
    "import pandas as pd\n",
    "import numpy as np"
   ]
  },
  {
   "cell_type": "code",
   "execution_count": 2,
   "metadata": {
    "scrolled": false
   },
   "outputs": [
    {
     "name": "stdout",
     "output_type": "stream",
     "text": [
      "Fresno\n"
     ]
    }
   ],
   "source": [
    "browser = webdriver.Firefox()\n",
    "\n",
    "location = input()\n",
    "browser.get('https://www.indeed.com/q-computer-science-l-'+location+'-jobs.html')"
   ]
  },
  {
   "cell_type": "code",
   "execution_count": 6,
   "metadata": {},
   "outputs": [],
   "source": [
    "import random\n",
    "import time\n",
    "description=[]\n",
    "title1 = browser.find_elements_by_xpath('//*[starts-with(@id,\"sja\")]')\n",
    "title2 = browser.find_elements_by_xpath('//*[starts-with(@id,\"jl_\")]')\n",
    "title=title1+title2\n",
    "\n",
    "rand=random.randrange(7)\n",
    "\n",
    "for i in range(len(title)):\n",
    "    title[i].click()\n",
    "    temp = browser.find_elements_by_css_selector('#vjs-desc')\n",
    "    for j in temp:\n",
    "        j=j.get_attribute('innerHTML')\n",
    "        description.append(j)\n",
    "        time.sleep(rand)"
   ]
  },
  {
   "cell_type": "code",
   "execution_count": 16,
   "metadata": {
    "scrolled": true
   },
   "outputs": [
    {
     "data": {
      "text/plain": [
       "[\"<p>Smoothstack—a tech talent incubator—is one of the most rapidly growing disruptive enterprises in the IT industry in the US.</p><p>We are looking for developers who want to make a career engaging in challenging projects on futuristic technology, software development, implementing software solutions, developing apps and much more within a variety of sectors such as financial, health care, energy and federal.</p><p>New college graduates are welcome to apply. We have multiple openings in and around Washington D.C. (Metro area) and no prior work experience is required. We will provide on the job training after you are hired.</p><p><b>Basic Qualifications</b></p><ul><li>Excitement and eagerness to learn new technology</li><li>Passion for IT development and desire to gain in-depth knowledge</li><li>Bachelor’s degree or minor in any of the following: Computer Science, Engineering, Statistics, Mathematics or Economics or equivalent training or course work experience</li><li>Basic knowledge of Java, C#, .Net, Python or similar programming languages</li><li>Interest in web programming and Object-Oriented design</li></ul><p><b>Advantages of Smoothstack</b></p><ul><li>Pay Package - $55,000 onward</li><li>Relocation assistance provided</li><li>Health/Medical Benefits</li><li>401 K</li><li>Industry Certifications</li><li>Mentoring Program</li><li>Opportunity to work at Fortune 500 companies</li></ul><p>We are proud of our diverse environment, EOE, MFDV.</p><p>Principles only. Recruiters please do not contact this job poster.<br>Do NOT contact us with unsolicited services or offer.</p><p>Job Type: Full-time</p><p>Salary: $55,000.00 /year</p><p>Experience:</p><ul><li>relevant: 1 year (Preferred)</li></ul><p>Education:</p><ul><li>Bachelor's (Preferred)</li></ul><p>Work Location:</p><ul><li>One location</li><li>Multiple locations</li></ul><p>Benefits:</p><ul><li>Paid time off</li><li>Relocation assistance</li><li>Professional development assistance</li><li>Health insurance</li></ul><p>This Job Is:</p><ul><li>Open to applicants who do not have a college diploma</li><li>Open to applicants who do not have a high school diploma/GED</li><li>A job for which military experienced candidates are encouraged to apply</li></ul><p>Schedule::</p><ul><li>Monday to Friday</li></ul>\",\n",
       " \"<div>The Webex Meetings Engineering team seeks a frontend engineer to deliver software across multiple platforms: Windows, Mac, iOS and Android. You'll contribute to meetings-related features in Webex Teams, which is an application for continuous teamwork with video meetings, group messaging, file sharing and white boarding. This is an excellent opportunity to participate in cross-platform development at an exceptional organization.\\n<br>\\n<br>\\nYour responsibilities in this role will include but are not limited to:\\n<ul><li>Implementing new features in a consistent way across platforms (often leveraging shared code)</li>\\n<li>Ensuring that there is test coverage for the code you write</li>\\n<li>Participating in code review</li>\\n<li>Suggesting creative solutions to new problems or refinements to existing code.</li>\\n</ul>You will be working on the world's leading cloud meetings platform. Cisco WebEx Teams is part of a $4.4B Collaboration portfolio at Cisco, which is investing heavily to transform the future of collaboration experiences for our end users.\\n<br>\\n<br>\\nWhen you work with us, you’ll be part of a highly empowered, global collaborative team who's passionate about the successful delivery of new features across all platforms. You will be able to quickly see the results of your work ship in our regular cadence of production releases, observe their usage and performance through metrics, and refine and optimize.\\n<br>\\n<br>\\nYou have an ability to solve complex problems involving multiple products. You're able to clearly present technical concepts to a wide audience. You exercise good judgement to determine best way to achieve technical objectives. You have exceptional problem solving, trouble shooting, and debugging skills. You're an excellent am player with interpersonal skills. You're able to work independently, as well as in tandem with a dynamic team.\\n<br>\\n<br>\\nMinimum Qualifications:\\n<ul><li>3+ years experience with C++ and/or Swift</li>\\n<li>Experience with multi-threaded programming</li>\\n<li>MS or BS in Computer Science or a related major</li>\\n</ul>Preferred Qualifications:\\n<ul><li>iOS and/or macOS development, especially working with user interfaces in XCode</li>\\n<li>Experience building GUIs with Qt, including Qt Designer</li>\\n</ul>At Cisco, each person brings their unique talents to work as a team and make a difference.\\n<br>\\n<br>\\nYes, our technology changes the way the world works, lives, plays and learns, but our edge comes from our people.\\n<br>\\n<br>\\nWe connect everything – people, process, data and things – and we use those connections to change our world for the better.\\n<br>\\n<br>\\nWe innovate everywhere - From launching a new era of networking that adapts, learns and protects, to building Cisco Services that accelerate businesses and business results. Our technology powers entertainment, retail, healthcare, education and more – from Smart Cities to your everyday devices.\\n<br>\\n<br>\\nWe benefit everyone - We do all of this while striving for a culture that empowers every person to be the difference, at work and in our communities.\\n<br>\\n<br>\\nColorful hair? Don’t care. Tattoos? Show off your ink. Like polka dots? That’s cool. Pop culture geek? Many of us are. Be you, with us! #WeAreCisco</div>\",\n",
       " \"<p><b>Who We Are</b></p><p>Brainfuse (www.brainfuse.com) is a nationally recognized eLearning corporation. Founded in 1999, Brainfuse is one of the nation's leading online education providers, serving a diverse client base of libraries, school districts, workforce centers, and universities.</p><p><b>Who We Are Looking For</b></p><p>Applicants need to have a bachelor's degree or its equivalent and be able to supply proof of their education levels. Since this is an online tutoring position, applicants are also required to have their own computers and a stable Internet connection. We are interested in applicants who have prior experience in teaching or tutoring:</p><ul><li>Windows Scripting</li><li>Oracle SQL</li><li>MySQL</li><li>Python</li><li>JavaScript</li><li>Java</li><li>C++</li><li>Cloud Computing</li><li>Advanced Visual Basic</li><li>A+ Certification</li><li>CCNA Certification</li><li>Linux +</li><li>Security +</li><li>Adobe Suite (Indesign, Acrobat, After Effects, Animate, Dreamweaver, Illustrator, LightRoom, PhotoShop, Premiere)</li><li>Web Design</li><li>Web Development</li><li>Information Technology</li><li>Network Administration</li><li>Personal Computer Hardware</li><li>Database Programming</li><li>Data Processing</li><li>Desktop Processing</li><li>Desktop Publishing</li><li>Drafting</li><li>Microsoft Server Administration</li><li>Introduction to Programming</li></ul><p>You can work from your own home or anywhere with Internet connection. Live tutoring is done through a virtual whiteboard. Scheduling is flexible and you choose your own hours. For more information on how it works, please visit www.brainfuse.com.</p><p><b>To Apply: Send a copy of your resume to jobs@ brainfuse.com</b></p><ul><li>&gt; The subject line of your email should be: Indeed Applicant - Computer Science Tutor*</li></ul><ul><li>&gt; Please include a brief description of your qualifications for teaching these subjects.*</li></ul><p>Job Type: Contract</p><p>Salary: $12.00 /hour</p>\"]"
      ]
     },
     "execution_count": 16,
     "metadata": {},
     "output_type": "execute_result"
    }
   ],
   "source": [
    "description[:3] #still contains html tags which can be removed w/ re"
   ]
  },
  {
   "cell_type": "code",
   "execution_count": 19,
   "metadata": {
    "scrolled": true
   },
   "outputs": [
    {
     "name": "stdout",
     "output_type": "stream",
     "text": [
      "\n",
      "Entry Level - Software Developer\n",
      "\n",
      "Client Software Engineer\n",
      "\n",
      "Online <b>Computer</b> <b>Science</b> and Information Technology Tutor (Re...\n",
      "\n",
      "Online High School Adjunct Teacher (Part-Time)\n",
      "\n",
      "Information Professional\n",
      "\n",
      "Python Django Backend Specialist\n",
      "\n",
      "Deskside Support Technician\n",
      "\n",
      "ETL Developer\n",
      "\n",
      "Technical Support Specialist\n",
      "\n",
      "Data Analyst\n",
      "\n",
      "Network Engineer\n",
      "\n",
      "React Developer\n",
      "\n",
      "Systems Engineer\n",
      "\n",
      "Hiring Telecom Engineer at CA\n",
      "\n",
      "Networking Specialist\n"
     ]
    }
   ],
   "source": [
    "for i in title:\n",
    "    print(i.get_attribute('innerHTML'))"
   ]
  }
 ],
 "metadata": {
  "kernelspec": {
   "display_name": "Python 3",
   "language": "python",
   "name": "python3"
  },
  "language_info": {
   "codemirror_mode": {
    "name": "ipython",
    "version": 3
   },
   "file_extension": ".py",
   "mimetype": "text/x-python",
   "name": "python",
   "nbconvert_exporter": "python",
   "pygments_lexer": "ipython3",
   "version": "3.7.3"
  }
 },
 "nbformat": 4,
 "nbformat_minor": 2
}
