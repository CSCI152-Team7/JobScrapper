{
 "cells": [
  {
   "cell_type": "code",
   "execution_count": 40,
   "metadata": {},
   "outputs": [],
   "source": [
    "# textsumExample to get a feel for text summerization\n",
    "# importing libraries for text summerization\n",
    "import json\n",
    "from pandas.io.json import json_normalize    \n",
    "import numpy as np\n",
    "import pandas as pd\n",
    "import nltk\n",
    "import re"
   ]
  },
  {
   "cell_type": "code",
   "execution_count": 46,
   "metadata": {},
   "outputs": [],
   "source": [
    "# create dataframe for article to munipulate\n",
    "df = pd.read_json(\"update.json\")\n",
    "with open('update.json') as data_file:    \n",
    "    data = json.load(data_file)  "
   ]
  },
  {
   "cell_type": "code",
   "execution_count": 42,
   "metadata": {},
   "outputs": [
    {
     "data": {
      "text/html": [
       "<div>\n",
       "<style scoped>\n",
       "    .dataframe tbody tr th:only-of-type {\n",
       "        vertical-align: middle;\n",
       "    }\n",
       "\n",
       "    .dataframe tbody tr th {\n",
       "        vertical-align: top;\n",
       "    }\n",
       "\n",
       "    .dataframe thead th {\n",
       "        text-align: right;\n",
       "    }\n",
       "</style>\n",
       "<table border=\"1\" class=\"dataframe\">\n",
       "  <thead>\n",
       "    <tr style=\"text-align: right;\">\n",
       "      <th></th>\n",
       "      <th>model</th>\n",
       "      <th>pk</th>\n",
       "      <th>fields</th>\n",
       "    </tr>\n",
       "  </thead>\n",
       "  <tbody>\n",
       "    <tr>\n",
       "      <th>0</th>\n",
       "      <td>jobs.jobsinfo</td>\n",
       "      <td>0</td>\n",
       "      <td>{'jobTitle': 'Bixly Inc', 'description': 'Look...</td>\n",
       "    </tr>\n",
       "    <tr>\n",
       "      <th>1</th>\n",
       "      <td>jobs.jobsinfo</td>\n",
       "      <td>1</td>\n",
       "      <td>{'jobTitle': 'Table Mountain Casino', 'descrip...</td>\n",
       "    </tr>\n",
       "    <tr>\n",
       "      <th>2</th>\n",
       "      <td>jobs.jobsinfo</td>\n",
       "      <td>2</td>\n",
       "      <td>{'jobTitle': 'Grundfos', 'description': 'Looki...</td>\n",
       "    </tr>\n",
       "    <tr>\n",
       "      <th>3</th>\n",
       "      <td>jobs.jobsinfo</td>\n",
       "      <td>3</td>\n",
       "      <td>{'jobTitle': 'Bixly Inc', 'description': 'SUMM...</td>\n",
       "    </tr>\n",
       "    <tr>\n",
       "      <th>4</th>\n",
       "      <td>jobs.jobsinfo</td>\n",
       "      <td>4</td>\n",
       "      <td>{'jobTitle': 'Bank of the Sierra', 'descriptio...</td>\n",
       "    </tr>\n",
       "  </tbody>\n",
       "</table>\n",
       "</div>"
      ],
      "text/plain": [
       "           model  pk                                             fields\n",
       "0  jobs.jobsinfo   0  {'jobTitle': 'Bixly Inc', 'description': 'Look...\n",
       "1  jobs.jobsinfo   1  {'jobTitle': 'Table Mountain Casino', 'descrip...\n",
       "2  jobs.jobsinfo   2  {'jobTitle': 'Grundfos', 'description': 'Looki...\n",
       "3  jobs.jobsinfo   3  {'jobTitle': 'Bixly Inc', 'description': 'SUMM...\n",
       "4  jobs.jobsinfo   4  {'jobTitle': 'Bank of the Sierra', 'descriptio..."
      ]
     },
     "execution_count": 42,
     "metadata": {},
     "output_type": "execute_result"
    }
   ],
   "source": [
    "# check dataframe contents to confirm creation\n",
    "# .head() grabs the first 5, .tail() grabs the last 5 \n",
    "df.head()\n"
   ]
  },
  {
   "cell_type": "code",
   "execution_count": 49,
   "metadata": {},
   "outputs": [
    {
     "ename": "TypeError",
     "evalue": "{'model': 'jobs.jobsinfo', 'pk': 0, 'fields': {'jobTitle': 'Bixly Inc', 'description': \"Looking to join a great local team of freakishly smart developers? We've got more projects than we can handle, so come join our team!\\n\\nWe are Bixly, a custom software development company. We're based in Fresno, CA, but we also do business on an international level. Check us out at http://www.bixly.com. Having grown tremendously in our 10+ years, we are looking for even more growth. We have quality clients, a strong, small local team, and programmers here and abroad.\\n\\nThis position is full time, and we have health insurance. We are very flexible with work schedules, and provide paid time off.\\n\\nWhat we expect out of you is the same we expect from ourselves:\\n\\n\\nNo jerks, punks, know-it-alls\\nInnovative ideas and strategies. We invest in sharp people and like to know what you can bring to the table to make us better.\\nConsistently communicate your point clearly and concisely over email, IM, and verbally\\n\\nRequirements for the Job:\\n\\n\\nExperience with React\\nFamiliarity with JavaScript, and it's large ecosystem\\nBasic understanding of internet protocols like HTTP, SSH, and S/FTP\\nExperience working in a code revision management system like Git\\n\\nSerious bonus points:\\n\\n\\nA deep understanding of contemporary Computer Science principals\\nExperience to the level of proficiency with TypeScript\\nFamiliarity with HTML/CSS\\nExperience with relational and non-relational database design and implementation\\nAdvanced experience with REST, SOAP, GraphQL, and Websockets for API communication\\nDemonstrable experience of planning, developing, and deploying at least one product\\nLocal to the Fresno area\\n\\nWhen filling out your application, be sure to include a short letter as to why you're interested in the role and please include a link to a git repo so we can review some code samples.\", 'place': 'Fresno, CA', 'link': 'https://www.glassdoor.com/partner/jobListing.htm?pos=101&ao=66506&s=58&guid=00000171b80f8a3a9d0fb9b32b9d5f1d&src=GD_JOB_AD&t=SR&extid=1&exst=EL&ist=&ast=EL&slr=true&ea=1&cs=1_883b927f&cb=1587930959056&jobListingId=3530158056', 'site': 'glassdoor'}} has non iterable value 0 for path ['pk']. Must be iterable or null.",
     "output_type": "error",
     "traceback": [
      "\u001b[1;31m---------------------------------------------------------------------------\u001b[0m",
      "\u001b[1;31mTypeError\u001b[0m                                 Traceback (most recent call last)",
      "\u001b[1;32m<ipython-input-49-724d6a96e57f>\u001b[0m in \u001b[0;36m<module>\u001b[1;34m\u001b[0m\n\u001b[0;32m      1\u001b[0m \u001b[1;31m#extract descriptions\u001b[0m\u001b[1;33m\u001b[0m\u001b[1;33m\u001b[0m\u001b[1;33m\u001b[0m\u001b[0m\n\u001b[1;32m----> 2\u001b[1;33m \u001b[0mdf_fields\u001b[0m \u001b[1;33m=\u001b[0m \u001b[0mpd\u001b[0m\u001b[1;33m.\u001b[0m\u001b[0mjson_normalize\u001b[0m\u001b[1;33m(\u001b[0m\u001b[0mdata\u001b[0m\u001b[1;33m,\u001b[0m \u001b[1;34m'fields'\u001b[0m\u001b[1;33m,\u001b[0m \u001b[1;33m[\u001b[0m\u001b[1;34m'model'\u001b[0m\u001b[1;33m,\u001b[0m\u001b[1;34m'pk'\u001b[0m\u001b[1;33m]\u001b[0m\u001b[1;33m)\u001b[0m\u001b[1;33m\u001b[0m\u001b[1;33m\u001b[0m\u001b[0m\n\u001b[0m\u001b[0;32m      3\u001b[0m \u001b[0mdf_fields\u001b[0m\u001b[1;33m\u001b[0m\u001b[1;33m\u001b[0m\u001b[0m\n",
      "\u001b[1;32mC:\\ProgramData\\Anaconda3\\lib\\site-packages\\pandas\\io\\json\\_normalize.py\u001b[0m in \u001b[0;36m_json_normalize\u001b[1;34m(data, record_path, meta, meta_prefix, record_prefix, errors, sep, max_level)\u001b[0m\n\u001b[0;32m    325\u001b[0m                 \u001b[0mrecords\u001b[0m\u001b[1;33m.\u001b[0m\u001b[0mextend\u001b[0m\u001b[1;33m(\u001b[0m\u001b[0mrecs\u001b[0m\u001b[1;33m)\u001b[0m\u001b[1;33m\u001b[0m\u001b[1;33m\u001b[0m\u001b[0m\n\u001b[0;32m    326\u001b[0m \u001b[1;33m\u001b[0m\u001b[0m\n\u001b[1;32m--> 327\u001b[1;33m     \u001b[0m_recursive_extract\u001b[0m\u001b[1;33m(\u001b[0m\u001b[0mdata\u001b[0m\u001b[1;33m,\u001b[0m \u001b[0mrecord_path\u001b[0m\u001b[1;33m,\u001b[0m \u001b[1;33m{\u001b[0m\u001b[1;33m}\u001b[0m\u001b[1;33m,\u001b[0m \u001b[0mlevel\u001b[0m\u001b[1;33m=\u001b[0m\u001b[1;36m0\u001b[0m\u001b[1;33m)\u001b[0m\u001b[1;33m\u001b[0m\u001b[1;33m\u001b[0m\u001b[0m\n\u001b[0m\u001b[0;32m    328\u001b[0m \u001b[1;33m\u001b[0m\u001b[0m\n\u001b[0;32m    329\u001b[0m     \u001b[0mresult\u001b[0m \u001b[1;33m=\u001b[0m \u001b[0mDataFrame\u001b[0m\u001b[1;33m(\u001b[0m\u001b[0mrecords\u001b[0m\u001b[1;33m)\u001b[0m\u001b[1;33m\u001b[0m\u001b[1;33m\u001b[0m\u001b[0m\n",
      "\u001b[1;32mC:\\ProgramData\\Anaconda3\\lib\\site-packages\\pandas\\io\\json\\_normalize.py\u001b[0m in \u001b[0;36m_recursive_extract\u001b[1;34m(data, path, seen_meta, level)\u001b[0m\n\u001b[0;32m    312\u001b[0m                     \u001b[1;32melse\u001b[0m\u001b[1;33m:\u001b[0m\u001b[1;33m\u001b[0m\u001b[1;33m\u001b[0m\u001b[0m\n\u001b[0;32m    313\u001b[0m                         \u001b[1;32mtry\u001b[0m\u001b[1;33m:\u001b[0m\u001b[1;33m\u001b[0m\u001b[1;33m\u001b[0m\u001b[0m\n\u001b[1;32m--> 314\u001b[1;33m                             \u001b[0mmeta_val\u001b[0m \u001b[1;33m=\u001b[0m \u001b[0m_pull_field\u001b[0m\u001b[1;33m(\u001b[0m\u001b[0mobj\u001b[0m\u001b[1;33m,\u001b[0m \u001b[0mval\u001b[0m\u001b[1;33m[\u001b[0m\u001b[0mlevel\u001b[0m\u001b[1;33m:\u001b[0m\u001b[1;33m]\u001b[0m\u001b[1;33m)\u001b[0m\u001b[1;33m\u001b[0m\u001b[1;33m\u001b[0m\u001b[0m\n\u001b[0m\u001b[0;32m    315\u001b[0m                         \u001b[1;32mexcept\u001b[0m \u001b[0mKeyError\u001b[0m \u001b[1;32mas\u001b[0m \u001b[0me\u001b[0m\u001b[1;33m:\u001b[0m\u001b[1;33m\u001b[0m\u001b[1;33m\u001b[0m\u001b[0m\n\u001b[0;32m    316\u001b[0m                             \u001b[1;32mif\u001b[0m \u001b[0merrors\u001b[0m \u001b[1;33m==\u001b[0m \u001b[1;34m\"ignore\"\u001b[0m\u001b[1;33m:\u001b[0m\u001b[1;33m\u001b[0m\u001b[1;33m\u001b[0m\u001b[0m\n",
      "\u001b[1;32mC:\\ProgramData\\Anaconda3\\lib\\site-packages\\pandas\\io\\json\\_normalize.py\u001b[0m in \u001b[0;36m_pull_field\u001b[1;34m(js, spec)\u001b[0m\n\u001b[0;32m    244\u001b[0m             \u001b[1;32melse\u001b[0m\u001b[1;33m:\u001b[0m\u001b[1;33m\u001b[0m\u001b[1;33m\u001b[0m\u001b[0m\n\u001b[0;32m    245\u001b[0m                 raise TypeError(\n\u001b[1;32m--> 246\u001b[1;33m                     \u001b[1;34mf\"{js} has non iterable value {result} for path {spec}. \"\u001b[0m\u001b[1;33m\u001b[0m\u001b[1;33m\u001b[0m\u001b[0m\n\u001b[0m\u001b[0;32m    247\u001b[0m                     \u001b[1;34m\"Must be iterable or null.\"\u001b[0m\u001b[1;33m\u001b[0m\u001b[1;33m\u001b[0m\u001b[0m\n\u001b[0;32m    248\u001b[0m                 )\n",
      "\u001b[1;31mTypeError\u001b[0m: {'model': 'jobs.jobsinfo', 'pk': 0, 'fields': {'jobTitle': 'Bixly Inc', 'description': \"Looking to join a great local team of freakishly smart developers? We've got more projects than we can handle, so come join our team!\\n\\nWe are Bixly, a custom software development company. We're based in Fresno, CA, but we also do business on an international level. Check us out at http://www.bixly.com. Having grown tremendously in our 10+ years, we are looking for even more growth. We have quality clients, a strong, small local team, and programmers here and abroad.\\n\\nThis position is full time, and we have health insurance. We are very flexible with work schedules, and provide paid time off.\\n\\nWhat we expect out of you is the same we expect from ourselves:\\n\\n\\nNo jerks, punks, know-it-alls\\nInnovative ideas and strategies. We invest in sharp people and like to know what you can bring to the table to make us better.\\nConsistently communicate your point clearly and concisely over email, IM, and verbally\\n\\nRequirements for the Job:\\n\\n\\nExperience with React\\nFamiliarity with JavaScript, and it's large ecosystem\\nBasic understanding of internet protocols like HTTP, SSH, and S/FTP\\nExperience working in a code revision management system like Git\\n\\nSerious bonus points:\\n\\n\\nA deep understanding of contemporary Computer Science principals\\nExperience to the level of proficiency with TypeScript\\nFamiliarity with HTML/CSS\\nExperience with relational and non-relational database design and implementation\\nAdvanced experience with REST, SOAP, GraphQL, and Websockets for API communication\\nDemonstrable experience of planning, developing, and deploying at least one product\\nLocal to the Fresno area\\n\\nWhen filling out your application, be sure to include a short letter as to why you're interested in the role and please include a link to a git repo so we can review some code samples.\", 'place': 'Fresno, CA', 'link': 'https://www.glassdoor.com/partner/jobListing.htm?pos=101&ao=66506&s=58&guid=00000171b80f8a3a9d0fb9b32b9d5f1d&src=GD_JOB_AD&t=SR&extid=1&exst=EL&ist=&ast=EL&slr=true&ea=1&cs=1_883b927f&cb=1587930959056&jobListingId=3530158056', 'site': 'glassdoor'}} has non iterable value 0 for path ['pk']. Must be iterable or null."
     ]
    }
   ],
   "source": [
    "#extract descriptions\n",
    "df_fields = pd.json_normalize(data, 'fields', ['model','pk'],record_prefix='fields_')\n",
    "df_fields"
   ]
  },
  {
   "cell_type": "code",
   "execution_count": null,
   "metadata": {},
   "outputs": [],
   "source": []
  }
 ],
 "metadata": {
  "kernelspec": {
   "display_name": "Python 3",
   "language": "python",
   "name": "python3"
  },
  "language_info": {
   "codemirror_mode": {
    "name": "ipython",
    "version": 3
   },
   "file_extension": ".py",
   "mimetype": "text/x-python",
   "name": "python",
   "nbconvert_exporter": "python",
   "pygments_lexer": "ipython3",
   "version": "3.6.10"
  }
 },
 "nbformat": 4,
 "nbformat_minor": 4
}
