{
 "cells": [
  {
   "cell_type": "code",
   "execution_count": 1,
   "metadata": {},
   "outputs": [],
   "source": [
    "# textsumExample to get a feel for text summerization\n",
    "# importing libraries for text summerization\n",
    "import json\n",
    "from pandas.io.json import json_normalize    \n",
    "import numpy as np\n",
    "import pandas as pd\n",
    "import nltk\n",
    "import re"
   ]
  },
  {
   "cell_type": "code",
   "execution_count": 2,
   "metadata": {},
   "outputs": [],
   "source": [
    "# create dataframe for article to munipulate\n",
    "df = pd.read_json(\"newfields.json\",encoding=\"utf8\")\n",
    "with open('newfields.json',encoding=\"utf8\") as data_file:    \n",
    "    data = json.load(data_file)  "
   ]
  },
  {
   "cell_type": "code",
   "execution_count": 3,
   "metadata": {},
   "outputs": [
    {
     "data": {
      "text/html": [
       "<div>\n",
       "<style scoped>\n",
       "    .dataframe tbody tr th:only-of-type {\n",
       "        vertical-align: middle;\n",
       "    }\n",
       "\n",
       "    .dataframe tbody tr th {\n",
       "        vertical-align: top;\n",
       "    }\n",
       "\n",
       "    .dataframe thead th {\n",
       "        text-align: right;\n",
       "    }\n",
       "</style>\n",
       "<table border=\"1\" class=\"dataframe\">\n",
       "  <thead>\n",
       "    <tr style=\"text-align: right;\">\n",
       "      <th></th>\n",
       "      <th>model</th>\n",
       "      <th>pk</th>\n",
       "      <th>fields</th>\n",
       "    </tr>\n",
       "  </thead>\n",
       "  <tbody>\n",
       "    <tr>\n",
       "      <th>0</th>\n",
       "      <td>jobs.jobsinfo</td>\n",
       "      <td>0</td>\n",
       "      <td>{'JobTitle': 'Information Technology Project M...</td>\n",
       "    </tr>\n",
       "    <tr>\n",
       "      <th>1</th>\n",
       "      <td>jobs.jobsinfo</td>\n",
       "      <td>1</td>\n",
       "      <td>{'JobTitle': 'Application Consultant', 'organi...</td>\n",
       "    </tr>\n",
       "    <tr>\n",
       "      <th>2</th>\n",
       "      <td>jobs.jobsinfo</td>\n",
       "      <td>2</td>\n",
       "      <td>{'JobTitle': 'React Developer', 'organization'...</td>\n",
       "    </tr>\n",
       "    <tr>\n",
       "      <th>3</th>\n",
       "      <td>jobs.jobsinfo</td>\n",
       "      <td>3</td>\n",
       "      <td>{'JobTitle': 'React Developer', 'organization'...</td>\n",
       "    </tr>\n",
       "    <tr>\n",
       "      <th>4</th>\n",
       "      <td>jobs.jobsinfo</td>\n",
       "      <td>4</td>\n",
       "      <td>{'JobTitle': 'Python Django Backend Specialist...</td>\n",
       "    </tr>\n",
       "  </tbody>\n",
       "</table>\n",
       "</div>"
      ],
      "text/plain": [
       "           model  pk                                             fields\n",
       "0  jobs.jobsinfo   0  {'JobTitle': 'Information Technology Project M...\n",
       "1  jobs.jobsinfo   1  {'JobTitle': 'Application Consultant', 'organi...\n",
       "2  jobs.jobsinfo   2  {'JobTitle': 'React Developer', 'organization'...\n",
       "3  jobs.jobsinfo   3  {'JobTitle': 'React Developer', 'organization'...\n",
       "4  jobs.jobsinfo   4  {'JobTitle': 'Python Django Backend Specialist..."
      ]
     },
     "execution_count": 3,
     "metadata": {},
     "output_type": "execute_result"
    }
   ],
   "source": [
    "# check dataframe contents to confirm creation\n",
    "# .head() grabs the first 5, .tail() grabs the last 5 \n",
    "df.head()\n"
   ]
  },
  {
   "cell_type": "code",
   "execution_count": 4,
   "metadata": {},
   "outputs": [
    {
     "data": {
      "text/html": [
       "<div>\n",
       "<style scoped>\n",
       "    .dataframe tbody tr th:only-of-type {\n",
       "        vertical-align: middle;\n",
       "    }\n",
       "\n",
       "    .dataframe tbody tr th {\n",
       "        vertical-align: top;\n",
       "    }\n",
       "\n",
       "    .dataframe thead th {\n",
       "        text-align: right;\n",
       "    }\n",
       "</style>\n",
       "<table border=\"1\" class=\"dataframe\">\n",
       "  <thead>\n",
       "    <tr style=\"text-align: right;\">\n",
       "      <th></th>\n",
       "      <th>model</th>\n",
       "      <th>pk</th>\n",
       "      <th>fields.JobTitle</th>\n",
       "      <th>fields.organization</th>\n",
       "      <th>fields.description</th>\n",
       "      <th>fields.salary</th>\n",
       "      <th>fields.place</th>\n",
       "      <th>fields.link</th>\n",
       "      <th>fields.site</th>\n",
       "    </tr>\n",
       "  </thead>\n",
       "  <tbody>\n",
       "    <tr>\n",
       "      <th>0</th>\n",
       "      <td>jobs.jobsinfo</td>\n",
       "      <td>0</td>\n",
       "      <td>Information Technology Project Manager</td>\n",
       "      <td>Table Mountain Casino</td>\n",
       "      <td>In order for your application to be considered...</td>\n",
       "      <td>$46K-$82K (Glassdoor est.)</td>\n",
       "      <td>Friant, CA</td>\n",
       "      <td>https://www.glassdoor.com/partner/jobListing.h...</td>\n",
       "      <td>glassdoor</td>\n",
       "    </tr>\n",
       "    <tr>\n",
       "      <th>1</th>\n",
       "      <td>jobs.jobsinfo</td>\n",
       "      <td>1</td>\n",
       "      <td>Application Consultant</td>\n",
       "      <td>Grundfos</td>\n",
       "      <td>\\n\\n \\n\\n\\n Deadline: 2020-05-01\\n\\n\\n\\n Locat...</td>\n",
       "      <td>$36K-$79K (Glassdoor est.)</td>\n",
       "      <td>Fresno, CA</td>\n",
       "      <td>https://www.glassdoor.com/partner/jobListing.h...</td>\n",
       "      <td>glassdoor</td>\n",
       "    </tr>\n",
       "    <tr>\n",
       "      <th>2</th>\n",
       "      <td>jobs.jobsinfo</td>\n",
       "      <td>2</td>\n",
       "      <td>React Developer</td>\n",
       "      <td>Bixly Inc</td>\n",
       "      <td>Looking to join a great local team of freakish...</td>\n",
       "      <td>($6,261)-$17K (Glassdoor est.)</td>\n",
       "      <td>Fresno, CA</td>\n",
       "      <td>https://www.glassdoor.com/partner/jobListing.h...</td>\n",
       "      <td>glassdoor</td>\n",
       "    </tr>\n",
       "    <tr>\n",
       "      <th>3</th>\n",
       "      <td>jobs.jobsinfo</td>\n",
       "      <td>3</td>\n",
       "      <td>React Developer</td>\n",
       "      <td>Bixly Inc</td>\n",
       "      <td>Looking to join a great local team of freakish...</td>\n",
       "      <td>($6,261)-$17K (Glassdoor est.)</td>\n",
       "      <td>Fresno, CA</td>\n",
       "      <td>https://www.glassdoor.com/partner/jobListing.h...</td>\n",
       "      <td>glassdoor</td>\n",
       "    </tr>\n",
       "    <tr>\n",
       "      <th>4</th>\n",
       "      <td>jobs.jobsinfo</td>\n",
       "      <td>4</td>\n",
       "      <td>Python Django Backend Specialist</td>\n",
       "      <td>Bank of the Sierra</td>\n",
       "      <td>Looking to join a great local team of freakish...</td>\n",
       "      <td>$53K-$68K (Glassdoor est.)</td>\n",
       "      <td>Fresno, CA</td>\n",
       "      <td>https://www.glassdoor.com/partner/jobListing.h...</td>\n",
       "      <td>glassdoor</td>\n",
       "    </tr>\n",
       "    <tr>\n",
       "      <th>5</th>\n",
       "      <td>jobs.jobsinfo</td>\n",
       "      <td>5</td>\n",
       "      <td>IT Network Administrator</td>\n",
       "      <td>Unique Loom</td>\n",
       "      <td>\\nPurpose of Job:\\n\\n\\n\\n This position is mai...</td>\n",
       "      <td>$53K-$72K (Glassdoor est.)</td>\n",
       "      <td>Fresno, CA</td>\n",
       "      <td>https://www.glassdoor.com/partner/jobListing.h...</td>\n",
       "      <td>glassdoor</td>\n",
       "    </tr>\n",
       "    <tr>\n",
       "      <th>6</th>\n",
       "      <td>jobs.jobsinfo</td>\n",
       "      <td>6</td>\n",
       "      <td>Software Developer (Entry-Level)</td>\n",
       "      <td>DPS Telecom</td>\n",
       "      <td>Entry Level Software Programmer: Job Duties\\n\\...</td>\n",
       "      <td>$18K-$54K (Glassdoor est.)</td>\n",
       "      <td>Fresno, CA</td>\n",
       "      <td>https://www.glassdoor.com/partner/jobListing.h...</td>\n",
       "      <td>glassdoor</td>\n",
       "    </tr>\n",
       "    <tr>\n",
       "      <th>7</th>\n",
       "      <td>jobs.jobsinfo</td>\n",
       "      <td>7</td>\n",
       "      <td>Software Developer (Entry-Level)</td>\n",
       "      <td>HCL Technologies</td>\n",
       "      <td>Entry Level Software Programmer: Job Duties\\n\\...</td>\n",
       "      <td>$18K-$54K (Glassdoor est.)</td>\n",
       "      <td>Fresno, CA</td>\n",
       "      <td>https://www.glassdoor.com/partner/jobListing.h...</td>\n",
       "      <td>glassdoor</td>\n",
       "    </tr>\n",
       "    <tr>\n",
       "      <th>8</th>\n",
       "      <td>jobs.jobsinfo</td>\n",
       "      <td>8</td>\n",
       "      <td>Technical Support Specialist</td>\n",
       "      <td>McMillan Consulting</td>\n",
       "      <td>Technical Support Specialist:\\n\\nWe are a well...</td>\n",
       "      <td>$34K-$45K (Glassdoor est.)</td>\n",
       "      <td>Fresno, CA</td>\n",
       "      <td>https://www.glassdoor.com/partner/jobListing.h...</td>\n",
       "      <td>glassdoor</td>\n",
       "    </tr>\n",
       "    <tr>\n",
       "      <th>9</th>\n",
       "      <td>jobs.jobsinfo</td>\n",
       "      <td>9</td>\n",
       "      <td>IT Programmer/Analyst</td>\n",
       "      <td>Sante Health</td>\n",
       "      <td>Sant Health SystemofFresno, CAis seeking to hi...</td>\n",
       "      <td></td>\n",
       "      <td>Fresno, CA</td>\n",
       "      <td>https://www.glassdoor.com/partner/jobListing.h...</td>\n",
       "      <td>glassdoor</td>\n",
       "    </tr>\n",
       "    <tr>\n",
       "      <th>10</th>\n",
       "      <td>jobs.jobsinfo</td>\n",
       "      <td>10</td>\n",
       "      <td>IT Programmer/Analyst</td>\n",
       "      <td>Internal Revenue Service</td>\n",
       "      <td>Sant Health SystemofFresno, CAis seeking to hi...</td>\n",
       "      <td></td>\n",
       "      <td>Fresno, CA</td>\n",
       "      <td>https://www.glassdoor.com/partner/jobListing.h...</td>\n",
       "      <td>glassdoor</td>\n",
       "    </tr>\n",
       "    <tr>\n",
       "      <th>11</th>\n",
       "      <td>jobs.jobsinfo</td>\n",
       "      <td>11</td>\n",
       "      <td>Network Systems Specialist (Open Until Filled)</td>\n",
       "      <td>City of Fresno, CA</td>\n",
       "      <td>Under supervision, Network Systems Specialists...</td>\n",
       "      <td></td>\n",
       "      <td>Fresno, CA</td>\n",
       "      <td>https://www.glassdoor.com/partner/jobListing.h...</td>\n",
       "      <td>glassdoor</td>\n",
       "    </tr>\n",
       "    <tr>\n",
       "      <th>12</th>\n",
       "      <td>jobs.jobsinfo</td>\n",
       "      <td>12</td>\n",
       "      <td>Software Developer</td>\n",
       "      <td>DPS Telecom</td>\n",
       "      <td>Web Software Developer: Job Duties\\n\\nAs a Sof...</td>\n",
       "      <td>$28K-$45K (Glassdoor est.)</td>\n",
       "      <td>Fresno, CA</td>\n",
       "      <td>https://www.glassdoor.com/partner/jobListing.h...</td>\n",
       "      <td>glassdoor</td>\n",
       "    </tr>\n",
       "    <tr>\n",
       "      <th>13</th>\n",
       "      <td>jobs.jobsinfo</td>\n",
       "      <td>13</td>\n",
       "      <td>Senior Network Systems Specialist (Open until ...</td>\n",
       "      <td>City of Fresno, CA</td>\n",
       "      <td>RECRUITMENT IS OPEN UNTIL FILLED OR UNTIL A SU...</td>\n",
       "      <td></td>\n",
       "      <td>Fresno, CA</td>\n",
       "      <td>https://www.glassdoor.com/partner/jobListing.h...</td>\n",
       "      <td>glassdoor</td>\n",
       "    </tr>\n",
       "    <tr>\n",
       "      <th>14</th>\n",
       "      <td>jobs.jobsinfo</td>\n",
       "      <td>14</td>\n",
       "      <td>Computer Science Instructor - Summer 2020 (Rem...</td>\n",
       "      <td>Juni Learning</td>\n",
       "      <td>Do you love working with kids and inspiring th...</td>\n",
       "      <td>$60K-$83K (Glassdoor est.)</td>\n",
       "      <td>Fresno, CA</td>\n",
       "      <td>https://www.glassdoor.com/partner/jobListing.h...</td>\n",
       "      <td>glassdoor</td>\n",
       "    </tr>\n",
       "  </tbody>\n",
       "</table>\n",
       "</div>"
      ],
      "text/plain": [
       "            model  pk                                    fields.JobTitle  \\\n",
       "0   jobs.jobsinfo   0             Information Technology Project Manager   \n",
       "1   jobs.jobsinfo   1                             Application Consultant   \n",
       "2   jobs.jobsinfo   2                                    React Developer   \n",
       "3   jobs.jobsinfo   3                                    React Developer   \n",
       "4   jobs.jobsinfo   4                   Python Django Backend Specialist   \n",
       "5   jobs.jobsinfo   5                           IT Network Administrator   \n",
       "6   jobs.jobsinfo   6                   Software Developer (Entry-Level)   \n",
       "7   jobs.jobsinfo   7                   Software Developer (Entry-Level)   \n",
       "8   jobs.jobsinfo   8                       Technical Support Specialist   \n",
       "9   jobs.jobsinfo   9                              IT Programmer/Analyst   \n",
       "10  jobs.jobsinfo  10                              IT Programmer/Analyst   \n",
       "11  jobs.jobsinfo  11     Network Systems Specialist (Open Until Filled)   \n",
       "12  jobs.jobsinfo  12                                 Software Developer   \n",
       "13  jobs.jobsinfo  13  Senior Network Systems Specialist (Open until ...   \n",
       "14  jobs.jobsinfo  14  Computer Science Instructor - Summer 2020 (Rem...   \n",
       "\n",
       "         fields.organization  \\\n",
       "0      Table Mountain Casino   \n",
       "1                   Grundfos   \n",
       "2                  Bixly Inc   \n",
       "3                  Bixly Inc   \n",
       "4         Bank of the Sierra   \n",
       "5                Unique Loom   \n",
       "6                DPS Telecom   \n",
       "7           HCL Technologies   \n",
       "8        McMillan Consulting   \n",
       "9               Sante Health   \n",
       "10  Internal Revenue Service   \n",
       "11        City of Fresno, CA   \n",
       "12               DPS Telecom   \n",
       "13        City of Fresno, CA   \n",
       "14             Juni Learning   \n",
       "\n",
       "                                   fields.description  \\\n",
       "0   In order for your application to be considered...   \n",
       "1   \\n\\n \\n\\n\\n Deadline: 2020-05-01\\n\\n\\n\\n Locat...   \n",
       "2   Looking to join a great local team of freakish...   \n",
       "3   Looking to join a great local team of freakish...   \n",
       "4   Looking to join a great local team of freakish...   \n",
       "5   \\nPurpose of Job:\\n\\n\\n\\n This position is mai...   \n",
       "6   Entry Level Software Programmer: Job Duties\\n\\...   \n",
       "7   Entry Level Software Programmer: Job Duties\\n\\...   \n",
       "8   Technical Support Specialist:\\n\\nWe are a well...   \n",
       "9   Sant Health SystemofFresno, CAis seeking to hi...   \n",
       "10  Sant Health SystemofFresno, CAis seeking to hi...   \n",
       "11  Under supervision, Network Systems Specialists...   \n",
       "12  Web Software Developer: Job Duties\\n\\nAs a Sof...   \n",
       "13  RECRUITMENT IS OPEN UNTIL FILLED OR UNTIL A SU...   \n",
       "14  Do you love working with kids and inspiring th...   \n",
       "\n",
       "                     fields.salary fields.place  \\\n",
       "0       $46K-$82K (Glassdoor est.)   Friant, CA   \n",
       "1       $36K-$79K (Glassdoor est.)   Fresno, CA   \n",
       "2   ($6,261)-$17K (Glassdoor est.)   Fresno, CA   \n",
       "3   ($6,261)-$17K (Glassdoor est.)   Fresno, CA   \n",
       "4       $53K-$68K (Glassdoor est.)   Fresno, CA   \n",
       "5       $53K-$72K (Glassdoor est.)   Fresno, CA   \n",
       "6       $18K-$54K (Glassdoor est.)   Fresno, CA   \n",
       "7       $18K-$54K (Glassdoor est.)   Fresno, CA   \n",
       "8       $34K-$45K (Glassdoor est.)   Fresno, CA   \n",
       "9                                    Fresno, CA   \n",
       "10                                   Fresno, CA   \n",
       "11                                   Fresno, CA   \n",
       "12      $28K-$45K (Glassdoor est.)   Fresno, CA   \n",
       "13                                   Fresno, CA   \n",
       "14      $60K-$83K (Glassdoor est.)   Fresno, CA   \n",
       "\n",
       "                                          fields.link fields.site  \n",
       "0   https://www.glassdoor.com/partner/jobListing.h...   glassdoor  \n",
       "1   https://www.glassdoor.com/partner/jobListing.h...   glassdoor  \n",
       "2   https://www.glassdoor.com/partner/jobListing.h...   glassdoor  \n",
       "3   https://www.glassdoor.com/partner/jobListing.h...   glassdoor  \n",
       "4   https://www.glassdoor.com/partner/jobListing.h...   glassdoor  \n",
       "5   https://www.glassdoor.com/partner/jobListing.h...   glassdoor  \n",
       "6   https://www.glassdoor.com/partner/jobListing.h...   glassdoor  \n",
       "7   https://www.glassdoor.com/partner/jobListing.h...   glassdoor  \n",
       "8   https://www.glassdoor.com/partner/jobListing.h...   glassdoor  \n",
       "9   https://www.glassdoor.com/partner/jobListing.h...   glassdoor  \n",
       "10  https://www.glassdoor.com/partner/jobListing.h...   glassdoor  \n",
       "11  https://www.glassdoor.com/partner/jobListing.h...   glassdoor  \n",
       "12  https://www.glassdoor.com/partner/jobListing.h...   glassdoor  \n",
       "13  https://www.glassdoor.com/partner/jobListing.h...   glassdoor  \n",
       "14  https://www.glassdoor.com/partner/jobListing.h...   glassdoor  "
      ]
     },
     "execution_count": 4,
     "metadata": {},
     "output_type": "execute_result"
    }
   ],
   "source": [
    "#extract descriptions\n",
    "df_fields = pd.json_normalize(data,max_level=1)\n",
    "df_fields"
   ]
  },
  {
   "cell_type": "code",
   "execution_count": 5,
   "metadata": {},
   "outputs": [
    {
     "data": {
      "text/plain": [
       "\"In order for your application to be considered, you must complete the assessment that will be emailed to you once your application has been completed.\\n\\nDescription:\\nTo plan, execute, and finalize projects according to strict deadlines and within budget. This includes acquiring resources and coordinating the efforts of team members to deliver projects according to plan. Define the project's objectives and oversee quality control throughout its life cycle.\\n\\nPosition Type:\\nFull Time\\n\\nResponsibilities:\\n\\n\\tDefine, orchestrate, and manage the holistic project life cycle, delivery cadence, and release plan. Work closely with project sponsors and stakeholders to define project scope and release plans.\\n\\tCollaborate with IT service teams to develop detailed work plans, including work breakdown structures, project milestones, risk assessment/management plans, staffing needs, project timelines, and budgets.\\n\\tManages activities of project teams, controlling the indirect management of resources and schedules to ensure timely completion. Effectively communicate project expectations to team members in a timely and clear fashion.\\n\\tIdentify project risks and implement contingency plans. Identify and resolve issues and obstacles, escalating where necessary to the project sponsor, steering committee, or appropriate party.\\n\\tManages communication plan for project status, issues, and risks; provides project performance metrics with a focus on status, budgets, and projections.\\n\\tDefine project acceptance and success criteria. Disseminate to involved parties throughout the project life cycle. Ensure that projects are completed on time and they meet all business, systems, and quality requirements.\\n\\tActively contribute to establishing and improving project management practices and delivery frameworks.\\n\\tPerform other duties as assigned.\\n\\nRequirements:\\n\\n\\n\\tBachelor’s degree in Computer Science or related field is required, unless waived by Executive Management.\\n\\tMinimum of six (6) years directly related experience in an IT project management capacity, including all aspects of process development and execution.\\n\\tKnowledge in both traditional waterfall software development processes and Agile/Scrum methodologies.\\n\\tCertification in Project Management with Project Management skills including schedule estimation and work task definition preferred.\\n\\tExcellent interpersonal, written and verbal communication, proven analytical and problem-solving abilities required.\\n\""
      ]
     },
     "execution_count": 5,
     "metadata": {},
     "output_type": "execute_result"
    }
   ],
   "source": [
    "df_fields['fields.description'][0]"
   ]
  },
  {
   "cell_type": "code",
   "execution_count": 6,
   "metadata": {},
   "outputs": [],
   "source": [
    "# Now the next step is to break the text into individual sentences. \n",
    "# We will use the sent_tokenize( ) function of the nltk library to do this.\n",
    "\n",
    "from nltk.tokenize import sent_tokenize\n",
    "sentences = []\n",
    "#for s in df_fields['fields.description']:\n",
    "sentences.append(sent_tokenize(df_fields['fields.description'][0]))\n",
    "\n",
    "sentences = [y for x in sentences for y in x] # flatten list\n"
   ]
  },
  {
   "cell_type": "code",
   "execution_count": 7,
   "metadata": {},
   "outputs": [
    {
     "data": {
      "text/plain": [
       "['In order for your application to be considered, you must complete the assessment that will be emailed to you once your application has been completed.',\n",
       " 'Description:\\nTo plan, execute, and finalize projects according to strict deadlines and within budget.',\n",
       " 'This includes acquiring resources and coordinating the efforts of team members to deliver projects according to plan.',\n",
       " \"Define the project's objectives and oversee quality control throughout its life cycle.\",\n",
       " 'Position Type:\\nFull Time\\n\\nResponsibilities:\\n\\n\\tDefine, orchestrate, and manage the holistic project life cycle, delivery cadence, and release plan.',\n",
       " 'Work closely with project sponsors and stakeholders to define project scope and release plans.',\n",
       " 'Collaborate with IT service teams to develop detailed work plans, including work breakdown structures, project milestones, risk assessment/management plans, staffing needs, project timelines, and budgets.',\n",
       " 'Manages activities of project teams, controlling the indirect management of resources and schedules to ensure timely completion.',\n",
       " 'Effectively communicate project expectations to team members in a timely and clear fashion.',\n",
       " 'Identify project risks and implement contingency plans.']"
      ]
     },
     "execution_count": 7,
     "metadata": {},
     "output_type": "execute_result"
    }
   ],
   "source": [
    "# print a few elements of the list sentences.\n",
    "sentences[:10]"
   ]
  },
  {
   "cell_type": "code",
   "execution_count": 8,
   "metadata": {},
   "outputs": [],
   "source": [
    "# Extract word vectors\n",
    "# using pre-trained Wikipedia 2014 + Gigaword 5 GloVe vectors \n",
    "# you can download it @ https://nlp.stanford.edu/data/glove.6B.zip\n",
    "\n",
    "word_embeddings = {}\n",
    "f = open('glove.6B.100d.txt', encoding='utf-8')\n",
    "for line in f:\n",
    "    values = line.split()\n",
    "    word = values[0]\n",
    "    coefs = np.asarray(values[1:], dtype='float32')\n",
    "    word_embeddings[word] = coefs\n",
    "f.close()"
   ]
  },
  {
   "cell_type": "code",
   "execution_count": 9,
   "metadata": {},
   "outputs": [
    {
     "data": {
      "text/plain": [
       "400000"
      ]
     },
     "execution_count": 9,
     "metadata": {},
     "output_type": "execute_result"
    }
   ],
   "source": [
    "len(word_embeddings)"
   ]
  },
  {
   "cell_type": "code",
   "execution_count": 10,
   "metadata": {},
   "outputs": [],
   "source": [
    "# remove punctuations, numbers and special characters\n",
    "clean_sentences = pd.Series(sentences).str.replace(\"[^a-zA-Z]\", \" \")\n",
    "\n",
    "# make alphabets lowercase\n",
    "clean_sentences = [s.lower() for s in clean_sentences]"
   ]
  },
  {
   "cell_type": "code",
   "execution_count": 11,
   "metadata": {},
   "outputs": [],
   "source": [
    "# Get rid of the stopwords\n",
    "#nltk.download('stopwords')"
   ]
  },
  {
   "cell_type": "code",
   "execution_count": 12,
   "metadata": {},
   "outputs": [],
   "source": [
    "# import the stopwords\n",
    "from nltk.corpus import stopwords\n",
    "stop_words = stopwords.words('english')"
   ]
  },
  {
   "cell_type": "code",
   "execution_count": 13,
   "metadata": {},
   "outputs": [],
   "source": [
    "# function to remove these stopwords from our dataset\n",
    "def remove_stopwords(sen):\n",
    "    sen_new = \" \".join([i for i in sen if i not in stop_words])\n",
    "    return sen_new"
   ]
  },
  {
   "cell_type": "code",
   "execution_count": 14,
   "metadata": {},
   "outputs": [],
   "source": [
    "# remove stopwords from the sentences\n",
    "clean_sentences = [remove_stopwords(r.split()) for r in clean_sentences]"
   ]
  },
  {
   "cell_type": "code",
   "execution_count": 15,
   "metadata": {},
   "outputs": [],
   "source": [
    "# create vectors for our sentences\n",
    "sentence_vectors = []\n",
    "for i in clean_sentences:\n",
    "  if len(i) != 0:\n",
    "    v = sum([word_embeddings.get(w, np.zeros((100,))) for w in i.split()])/(len(i.split())+0.001)\n",
    "  else:\n",
    "    v = np.zeros((100,))\n",
    "  sentence_vectors.append(v)"
   ]
  },
  {
   "cell_type": "code",
   "execution_count": 16,
   "metadata": {},
   "outputs": [],
   "source": [
    "# similarity matrix\n",
    "sim_mat = np.zeros([len(sentences), len(sentences)])"
   ]
  },
  {
   "cell_type": "code",
   "execution_count": 17,
   "metadata": {},
   "outputs": [],
   "source": [
    "from sklearn.metrics.pairwise import cosine_similarity\n",
    "\n",
    "# initialize the matrix with cosine similarity scores.\n",
    "for i in range(len(sentences)):\n",
    "  for j in range(len(sentences)):\n",
    "    if i != j:\n",
    "      sim_mat[i][j] = cosine_similarity(sentence_vectors[i].reshape(1,100), sentence_vectors[j].reshape(1,100))[0,0]"
   ]
  },
  {
   "cell_type": "code",
   "execution_count": 18,
   "metadata": {},
   "outputs": [],
   "source": [
    "# Applying PageRank Algorithm\n",
    "import networkx as nx\n",
    "\n",
    "nx_graph = nx.from_numpy_array(sim_mat)\n",
    "scores = nx.pagerank(nx_graph)"
   ]
  },
  {
   "cell_type": "code",
   "execution_count": 19,
   "metadata": {},
   "outputs": [],
   "source": [
    "#Summary Extraction\n",
    "ranked_sentences = sorted(((scores[i],s) for i,s in enumerate(sentences)), reverse=True)\n"
   ]
  },
  {
   "cell_type": "code",
   "execution_count": 32,
   "metadata": {},
   "outputs": [],
   "source": [
    "keywords = \"\"\n",
    "sumtext = \"\""
   ]
  },
  {
   "cell_type": "code",
   "execution_count": 33,
   "metadata": {},
   "outputs": [
    {
     "name": "stdout",
     "output_type": "stream",
     "text": [
      "Collaborate with IT service teams to develop detailed work plans, including work breakdown structures, project milestones, risk assessment/management plans, staffing needs, project timelines, and budgets.\n",
      "Certification in Project Management with Project Management skills including schedule estimation and work task definition preferred.\n",
      "Ensure that projects are completed on time and they meet all business, systems, and quality requirements.\n",
      "Minimum of six (6) years directly related experience in an IT project management capacity, including all aspects of process development and execution.\n",
      "Define the project's objectives and oversee quality control throughout its life cycle.\n",
      "Manages communication plan for project status, issues, and risks; provides project performance metrics with a focus on status, budgets, and projections.\n",
      "Manages activities of project teams, controlling the indirect management of resources and schedules to ensure timely completion.\n",
      "Position Type:\n",
      "Full Time\n",
      "\n",
      "Responsibilities:\n",
      "\n",
      "\tDefine, orchestrate, and manage the holistic project life cycle, delivery cadence, and release plan.\n"
     ]
    }
   ],
   "source": [
    "import math\n",
    "# Extract top 10 sentences as the summary\n",
    "for i in range(math.ceil(len(ranked_sentences)/3)):\n",
    "    print(ranked_sentences[i][1])\n",
    "    keywords += ranked_sentences[i][1]\n"
   ]
  },
  {
   "cell_type": "code",
   "execution_count": 36,
   "metadata": {},
   "outputs": [
    {
     "name": "stdout",
     "output_type": "stream",
     "text": [
      "\n"
     ]
    },
    {
     "data": {
      "text/plain": [
       "\"Collaborate with IT service teams to develop detailed work plans, including work breakdown structures, project milestones, risk assessment/management plans, staffing needs, project timelines, and budgets.Certification in Project Management with Project Management skills including schedule estimation and work task definition preferred.Ensure that projects are completed on time and they meet all business, systems, and quality requirements.Minimum of six (6) years directly related experience in an IT project management capacity, including all aspects of process development and execution.Define the project's objectives and oversee quality control throughout its life cycle.Manages communication plan for project status, issues, and risks; provides project performance metrics with a focus on status, budgets, and projections.Manages activities of project teams, controlling the indirect management of resources and schedules to ensure timely completion.Position Type:\\nFull Time\\n\\nResponsibilities:\\n\\n\\tDefine, orchestrate, and manage the holistic project life cycle, delivery cadence, and release plan.\""
      ]
     },
     "execution_count": 36,
     "metadata": {},
     "output_type": "execute_result"
    }
   ],
   "source": [
    "from gensim.summarization.summarizer import summarize\n",
    "    \n",
    "sumtext = (summarize(keywords))\n",
    "print(sumtext)\n",
    "#print(keywords_sum)\n"
   ]
  },
  {
   "cell_type": "code",
   "execution_count": null,
   "metadata": {},
   "outputs": [],
   "source": [
    "#print(s)\n",
    "df_fields['fields.description'][0] = sumtext\n",
    "df.fields[0]['description'] = sumtext"
   ]
  },
  {
   "cell_type": "code",
   "execution_count": null,
   "metadata": {
    "scrolled": true
   },
   "outputs": [],
   "source": [
    "df.fields[0]['description']"
   ]
  },
  {
   "cell_type": "code",
   "execution_count": null,
   "metadata": {},
   "outputs": [],
   "source": [
    "df"
   ]
  },
  {
   "cell_type": "code",
   "execution_count": null,
   "metadata": {},
   "outputs": [],
   "source": []
  },
  {
   "cell_type": "code",
   "execution_count": null,
   "metadata": {},
   "outputs": [],
   "source": [
    "import io\n",
    "import json\n",
    "\n",
    "x={}\n",
    "for i in range(len(df)):\n",
    "    temp={}\n",
    "    temp[\"model\"] = \"jobs.jobsinfo\"\n",
    "    temp[\"pk\"]= i\n",
    "    x[i]=temp\n",
    "    x[i][\"fields\"]={\n",
    "        \"JobTitle\":(df.fields[i]['JobTitle']),\n",
    "        \"organization\":(df.fields[i]['organization']),\n",
    "        \"description\": df.fields[i]['description'],\n",
    "        \"salary\":(df.fields[i]['salary']),\n",
    "        \"place\":df.fields[i]['place'],\n",
    "        \"link\":df.fields[i]['link'],\n",
    "        \"site\":df.fields[i]['site']}\n",
    "x=list(x.values())\n",
    "    \n",
    "with io.open('test.json', 'w',encoding='windows-1252') as fp:\n",
    "    json.dump(x,fp)\n",
    "#Note: My django did not like indents so I got rid of them"
   ]
  },
  {
   "cell_type": "code",
   "execution_count": null,
   "metadata": {},
   "outputs": [],
   "source": []
  }
 ],
 "metadata": {
  "kernelspec": {
   "display_name": "Python 3",
   "language": "python",
   "name": "python3"
  },
  "language_info": {
   "codemirror_mode": {
    "name": "ipython",
    "version": 3
   },
   "file_extension": ".py",
   "mimetype": "text/x-python",
   "name": "python",
   "nbconvert_exporter": "python",
   "pygments_lexer": "ipython3",
   "version": "3.6.10"
  }
 },
 "nbformat": 4,
 "nbformat_minor": 4
}
