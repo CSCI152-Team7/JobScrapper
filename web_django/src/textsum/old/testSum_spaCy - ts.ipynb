{
 "cells": [
  {
   "cell_type": "code",
   "execution_count": 1,
   "metadata": {},
   "outputs": [],
   "source": [
    "# textsumExample to get a feel for text summerization\n",
    "# importing libraries for text summerization\n",
    "import io\n",
    "import json\n",
    "import pandas as pd\n",
    "from gensim.summarization.summarizer import summarize"
   ]
  },
  {
   "cell_type": "code",
   "execution_count": 2,
   "metadata": {},
   "outputs": [],
   "source": [
    "# create dataframe for article to munipulate\n",
    "df = pd.read_json(\"test_sum.json\",encoding=\"utf8\")\n",
    "with open(\"test_sum.json\",encoding=\"utf8\") as data_file:\n",
    "    data = json.load(data_file)\n",
    "\n",
    "#normalize df\n",
    "df_fields = pd.json_normalize(data,max_level=1)\n"
   ]
  },
  {
   "cell_type": "code",
   "execution_count": 3,
   "metadata": {},
   "outputs": [],
   "source": [
    "#sumtext = df_fields['fields.description'][0] \n",
    "#df.fields[0]['description']\n",
    "\n",
    "\n",
    "#sumtext_s = (summarize(sumtext,ratio=0.15))"
   ]
  },
  {
   "cell_type": "code",
   "execution_count": 4,
   "metadata": {},
   "outputs": [],
   "source": [
    "sumtext = df_fields[\"fields.description\"][0] "
   ]
  },
  {
   "cell_type": "code",
   "execution_count": 5,
   "metadata": {},
   "outputs": [
    {
     "data": {
      "text/plain": [
       "'Ensure that projects are completed on time and they meet all business, systems, and quality requirements.Manages communication plan for project status, issues, and risks; provides project performance metrics with a focus on status, budgets, and projections.Manages activities of project teams, controlling the indirect management of resources and schedules to ensure timely completion.Position Type:\\nFull Time\\n\\nResponsibilities:\\n\\n\\tDefine, orchestrate, and manage the holistic project life cycle, delivery cadence, and release plan.Collaborate with IT service teams to develop detailed work plans, including work breakdown structures, project milestones, risk assessment/management plans, staffing needs, project timelines, and budgets.This includes acquiring resources and coordinating the efforts of team members to deliver projects according to plan.Minimum of six (6) years directly related experience in an IT project management capacity, including all aspects of process development and execution.Work closely with project sponsors and stakeholders to define project scope and release plans.'"
      ]
     },
     "execution_count": 5,
     "metadata": {},
     "output_type": "execute_result"
    }
   ],
   "source": [
    "sumtext"
   ]
  },
  {
   "cell_type": "code",
   "execution_count": 10,
   "metadata": {},
   "outputs": [
    {
     "name": "stdout",
     "output_type": "stream",
     "text": [
      "\n"
     ]
    }
   ],
   "source": []
  },
  {
   "cell_type": "code",
   "execution_count": 8,
   "metadata": {},
   "outputs": [
    {
     "name": "stdout",
     "output_type": "stream",
     "text": [
      "And she won't eat her dinner - rice pudding again -\n",
      "I've promised her dolls and a daisy-chain,\n",
      "I've promised her sweets and a ride in the train,\n",
      "And it's lovely rice pudding for dinner again!\n"
     ]
    }
   ],
   "source": []
  },
  {
   "cell_type": "code",
   "execution_count": 7,
   "metadata": {},
   "outputs": [],
   "source": [
    "x={}\n",
    "for i in range(len(df)):\n",
    "    temp={}\n",
    "    temp[\"model\"] = \"jobs.jobsinfo\"\n",
    "    temp[\"pk\"]= i\n",
    "    x[i]=temp\n",
    "    x[i][\"fields\"]={\n",
    "        \"JobTitle\":(df.fields[i]['JobTitle']),\n",
    "        \"organization\":(df.fields[i]['organization']),\n",
    "        \"description\": df.fields[i]['description'],\n",
    "        \"salary\":(df.fields[i]['salary']),\n",
    "        \"place\":df.fields[i]['place'],\n",
    "        \"link\":df.fields[i]['link'],\n",
    "        \"site\":df.fields[i]['site']}\n",
    "x=list(x.values())\n",
    "    \n",
    "with io.open('test_sum.json', 'w',encoding='windows-1252') as fp:\n",
    "    json.dump(x,fp)\n",
    "#Note: My django did not like indents so I got rid of them"
   ]
  },
  {
   "cell_type": "code",
   "execution_count": null,
   "metadata": {},
   "outputs": [],
   "source": []
  }
 ],
 "metadata": {
  "kernelspec": {
   "display_name": "Python 3",
   "language": "python",
   "name": "python3"
  },
  "language_info": {
   "codemirror_mode": {
    "name": "ipython",
    "version": 3
   },
   "file_extension": ".py",
   "mimetype": "text/x-python",
   "name": "python",
   "nbconvert_exporter": "python",
   "pygments_lexer": "ipython3",
   "version": "3.6.10"
  }
 },
 "nbformat": 4,
 "nbformat_minor": 4
}
