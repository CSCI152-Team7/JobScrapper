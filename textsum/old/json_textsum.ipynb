{
 "cells": [
  {
   "cell_type": "code",
   "execution_count": 1,
   "metadata": {},
   "outputs": [],
   "source": [
    "# textsumExample to get a feel for text summerization\n",
    "# importing libraries for text summerization\n",
    "import json\n",
    "from pandas.io.json import json_normalize    \n",
    "import numpy as np\n",
    "import pandas as pd\n",
    "import nltk\n",
    "import re"
   ]
  },
  {
   "cell_type": "code",
   "execution_count": 2,
   "metadata": {},
   "outputs": [],
   "source": [
    "# create dataframe for article to munipulate\n",
    "df = pd.read_json(\"update.json\")\n",
    "with open('update.json') as data_file:    \n",
    "    data = json.load(data_file)  "
   ]
  },
  {
   "cell_type": "code",
   "execution_count": 3,
   "metadata": {},
   "outputs": [
    {
     "data": {
      "text/html": [
       "<div>\n",
       "<style scoped>\n",
       "    .dataframe tbody tr th:only-of-type {\n",
       "        vertical-align: middle;\n",
       "    }\n",
       "\n",
       "    .dataframe tbody tr th {\n",
       "        vertical-align: top;\n",
       "    }\n",
       "\n",
       "    .dataframe thead th {\n",
       "        text-align: right;\n",
       "    }\n",
       "</style>\n",
       "<table border=\"1\" class=\"dataframe\">\n",
       "  <thead>\n",
       "    <tr style=\"text-align: right;\">\n",
       "      <th></th>\n",
       "      <th>model</th>\n",
       "      <th>pk</th>\n",
       "      <th>fields</th>\n",
       "    </tr>\n",
       "  </thead>\n",
       "  <tbody>\n",
       "    <tr>\n",
       "      <th>0</th>\n",
       "      <td>jobs.jobsinfo</td>\n",
       "      <td>0</td>\n",
       "      <td>{'jobTitle': 'Bixly Inc', 'description': 'Look...</td>\n",
       "    </tr>\n",
       "    <tr>\n",
       "      <th>1</th>\n",
       "      <td>jobs.jobsinfo</td>\n",
       "      <td>1</td>\n",
       "      <td>{'jobTitle': 'Table Mountain Casino', 'descrip...</td>\n",
       "    </tr>\n",
       "    <tr>\n",
       "      <th>2</th>\n",
       "      <td>jobs.jobsinfo</td>\n",
       "      <td>2</td>\n",
       "      <td>{'jobTitle': 'Grundfos', 'description': 'Looki...</td>\n",
       "    </tr>\n",
       "    <tr>\n",
       "      <th>3</th>\n",
       "      <td>jobs.jobsinfo</td>\n",
       "      <td>3</td>\n",
       "      <td>{'jobTitle': 'Bixly Inc', 'description': 'SUMM...</td>\n",
       "    </tr>\n",
       "    <tr>\n",
       "      <th>4</th>\n",
       "      <td>jobs.jobsinfo</td>\n",
       "      <td>4</td>\n",
       "      <td>{'jobTitle': 'Bank of the Sierra', 'descriptio...</td>\n",
       "    </tr>\n",
       "  </tbody>\n",
       "</table>\n",
       "</div>"
      ],
      "text/plain": [
       "           model  pk                                             fields\n",
       "0  jobs.jobsinfo   0  {'jobTitle': 'Bixly Inc', 'description': 'Look...\n",
       "1  jobs.jobsinfo   1  {'jobTitle': 'Table Mountain Casino', 'descrip...\n",
       "2  jobs.jobsinfo   2  {'jobTitle': 'Grundfos', 'description': 'Looki...\n",
       "3  jobs.jobsinfo   3  {'jobTitle': 'Bixly Inc', 'description': 'SUMM...\n",
       "4  jobs.jobsinfo   4  {'jobTitle': 'Bank of the Sierra', 'descriptio..."
      ]
     },
     "execution_count": 3,
     "metadata": {},
     "output_type": "execute_result"
    }
   ],
   "source": [
    "# check dataframe contents to confirm creation\n",
    "# .head() grabs the first 5, .tail() grabs the last 5 \n",
    "df.head()\n"
   ]
  },
  {
   "cell_type": "code",
   "execution_count": 4,
   "metadata": {},
   "outputs": [
    {
     "data": {
      "text/html": [
       "<div>\n",
       "<style scoped>\n",
       "    .dataframe tbody tr th:only-of-type {\n",
       "        vertical-align: middle;\n",
       "    }\n",
       "\n",
       "    .dataframe tbody tr th {\n",
       "        vertical-align: top;\n",
       "    }\n",
       "\n",
       "    .dataframe thead th {\n",
       "        text-align: right;\n",
       "    }\n",
       "</style>\n",
       "<table border=\"1\" class=\"dataframe\">\n",
       "  <thead>\n",
       "    <tr style=\"text-align: right;\">\n",
       "      <th></th>\n",
       "      <th>model</th>\n",
       "      <th>pk</th>\n",
       "      <th>fields.jobTitle</th>\n",
       "      <th>fields.description</th>\n",
       "      <th>fields.place</th>\n",
       "      <th>fields.link</th>\n",
       "      <th>fields.site</th>\n",
       "    </tr>\n",
       "  </thead>\n",
       "  <tbody>\n",
       "    <tr>\n",
       "      <th>0</th>\n",
       "      <td>jobs.jobsinfo</td>\n",
       "      <td>0</td>\n",
       "      <td>Bixly Inc</td>\n",
       "      <td>Looking to join a great local team of freakish...</td>\n",
       "      <td>Fresno, CA</td>\n",
       "      <td>https://www.glassdoor.com/partner/jobListing.h...</td>\n",
       "      <td>glassdoor</td>\n",
       "    </tr>\n",
       "    <tr>\n",
       "      <th>1</th>\n",
       "      <td>jobs.jobsinfo</td>\n",
       "      <td>1</td>\n",
       "      <td>Table Mountain Casino</td>\n",
       "      <td>\\n\\n \\n\\n\\n Deadline: 2020-05-01\\n\\n\\n\\n Locat...</td>\n",
       "      <td>Fresno, CA</td>\n",
       "      <td>https://www.glassdoor.com/partner/jobListing.h...</td>\n",
       "      <td>glassdoor</td>\n",
       "    </tr>\n",
       "    <tr>\n",
       "      <th>2</th>\n",
       "      <td>jobs.jobsinfo</td>\n",
       "      <td>2</td>\n",
       "      <td>Grundfos</td>\n",
       "      <td>Looking to join a great local team of freakish...</td>\n",
       "      <td>Fresno, CA</td>\n",
       "      <td>https://www.glassdoor.com/partner/jobListing.h...</td>\n",
       "      <td>glassdoor</td>\n",
       "    </tr>\n",
       "    <tr>\n",
       "      <th>3</th>\n",
       "      <td>jobs.jobsinfo</td>\n",
       "      <td>3</td>\n",
       "      <td>Bixly Inc</td>\n",
       "      <td>SUMMARY\\n\\nBank of the Sierra is seeking a Ris...</td>\n",
       "      <td>Fresno, CA</td>\n",
       "      <td>https://www.glassdoor.com/partner/jobListing.h...</td>\n",
       "      <td>glassdoor</td>\n",
       "    </tr>\n",
       "    <tr>\n",
       "      <th>4</th>\n",
       "      <td>jobs.jobsinfo</td>\n",
       "      <td>4</td>\n",
       "      <td>Bank of the Sierra</td>\n",
       "      <td>Sant Health SystemofFresno, CAis seeking to hi...</td>\n",
       "      <td>Fresno, CA</td>\n",
       "      <td>https://www.glassdoor.com/partner/jobListing.h...</td>\n",
       "      <td>glassdoor</td>\n",
       "    </tr>\n",
       "    <tr>\n",
       "      <th>5</th>\n",
       "      <td>jobs.jobsinfo</td>\n",
       "      <td>5</td>\n",
       "      <td>Sante Health</td>\n",
       "      <td>Technical Support Specialist:\\n\\nWe are a well...</td>\n",
       "      <td>Fresno, CA</td>\n",
       "      <td>https://www.glassdoor.com/partner/jobListing.h...</td>\n",
       "      <td>glassdoor</td>\n",
       "    </tr>\n",
       "    <tr>\n",
       "      <th>6</th>\n",
       "      <td>jobs.jobsinfo</td>\n",
       "      <td>6</td>\n",
       "      <td>McMillan Consulting</td>\n",
       "      <td>\\nPurpose of Job:\\n\\n\\n\\n This position is mai...</td>\n",
       "      <td>Fresno, CA</td>\n",
       "      <td>https://www.glassdoor.com/partner/jobListing.h...</td>\n",
       "      <td>glassdoor</td>\n",
       "    </tr>\n",
       "    <tr>\n",
       "      <th>7</th>\n",
       "      <td>jobs.jobsinfo</td>\n",
       "      <td>7</td>\n",
       "      <td>Unique Loom</td>\n",
       "      <td>Entry Level Software Programmer: Job Duties\\n\\...</td>\n",
       "      <td>Fresno, CA</td>\n",
       "      <td>https://www.glassdoor.com/partner/jobListing.h...</td>\n",
       "      <td>glassdoor</td>\n",
       "    </tr>\n",
       "    <tr>\n",
       "      <th>8</th>\n",
       "      <td>jobs.jobsinfo</td>\n",
       "      <td>8</td>\n",
       "      <td>DPS Telecom</td>\n",
       "      <td>Entry Level Software Programmer: Job Duties\\n\\...</td>\n",
       "      <td>Fresno, CA</td>\n",
       "      <td>https://www.glassdoor.com/partner/jobListing.h...</td>\n",
       "      <td>glassdoor</td>\n",
       "    </tr>\n",
       "    <tr>\n",
       "      <th>9</th>\n",
       "      <td>jobs.jobsinfo</td>\n",
       "      <td>9</td>\n",
       "      <td>HCL Technologies</td>\n",
       "      <td>The U.S. Department of the Treasury has a dist...</td>\n",
       "      <td>Fresno, CA</td>\n",
       "      <td>https://www.glassdoor.com/partner/jobListing.h...</td>\n",
       "      <td>glassdoor</td>\n",
       "    </tr>\n",
       "    <tr>\n",
       "      <th>10</th>\n",
       "      <td>jobs.jobsinfo</td>\n",
       "      <td>10</td>\n",
       "      <td>Internal Revenue Service</td>\n",
       "      <td>RECRUITMENT IS OPEN UNTIL FILLED OR UNTIL A SU...</td>\n",
       "      <td>Fresno, CA</td>\n",
       "      <td>https://www.glassdoor.com/partner/jobListing.h...</td>\n",
       "      <td>glassdoor</td>\n",
       "    </tr>\n",
       "    <tr>\n",
       "      <th>11</th>\n",
       "      <td>jobs.jobsinfo</td>\n",
       "      <td>11</td>\n",
       "      <td>City of Fresno, CA</td>\n",
       "      <td>Under supervision, Network Systems Specialists...</td>\n",
       "      <td>Fresno, CA</td>\n",
       "      <td>https://www.glassdoor.com/partner/jobListing.h...</td>\n",
       "      <td>glassdoor</td>\n",
       "    </tr>\n",
       "    <tr>\n",
       "      <th>12</th>\n",
       "      <td>jobs.jobsinfo</td>\n",
       "      <td>12</td>\n",
       "      <td>City of Fresno, CA</td>\n",
       "      <td>Job Title: Data Engineer\\n\\nDepartment: IT\\n\\n...</td>\n",
       "      <td>Fresno, CA</td>\n",
       "      <td>https://www.glassdoor.com/partner/jobListing.h...</td>\n",
       "      <td>glassdoor</td>\n",
       "    </tr>\n",
       "    <tr>\n",
       "      <th>13</th>\n",
       "      <td>jobs.jobsinfo</td>\n",
       "      <td>13</td>\n",
       "      <td>Assemi Group, Inc.</td>\n",
       "      <td>Network Engineer:\\n\\nWe are a well-established...</td>\n",
       "      <td>Fresno, CA</td>\n",
       "      <td>https://www.glassdoor.com/partner/jobListing.h...</td>\n",
       "      <td>glassdoor</td>\n",
       "    </tr>\n",
       "    <tr>\n",
       "      <th>14</th>\n",
       "      <td>jobs.jobsinfo</td>\n",
       "      <td>14</td>\n",
       "      <td>McMillan Consulting</td>\n",
       "      <td>Web Software Developer: Job Duties\\n\\nAs a Sof...</td>\n",
       "      <td>Fresno, CA</td>\n",
       "      <td>https://www.glassdoor.com/partner/jobListing.h...</td>\n",
       "      <td>glassdoor</td>\n",
       "    </tr>\n",
       "    <tr>\n",
       "      <th>15</th>\n",
       "      <td>jobs.jobsinfo</td>\n",
       "      <td>15</td>\n",
       "      <td>DPS Telecom</td>\n",
       "      <td>We are seeking a Talented and Driven Business ...</td>\n",
       "      <td>Fresno, CA</td>\n",
       "      <td>https://www.glassdoor.com/partner/jobListing.h...</td>\n",
       "      <td>glassdoor</td>\n",
       "    </tr>\n",
       "    <tr>\n",
       "      <th>16</th>\n",
       "      <td>jobs.jobsinfo</td>\n",
       "      <td>16</td>\n",
       "      <td>Staffigo Technical Services, LLC</td>\n",
       "      <td>Revature is the fastest growing employer of em...</td>\n",
       "      <td>Fresno, CA</td>\n",
       "      <td>https://www.glassdoor.com/partner/jobListing.h...</td>\n",
       "      <td>glassdoor</td>\n",
       "    </tr>\n",
       "    <tr>\n",
       "      <th>17</th>\n",
       "      <td>jobs.jobsinfo</td>\n",
       "      <td>17</td>\n",
       "      <td>Revature</td>\n",
       "      <td>Do you love working with kids and inspiring th...</td>\n",
       "      <td>Fresno, CA</td>\n",
       "      <td>https://www.glassdoor.com/partner/jobListing.h...</td>\n",
       "      <td>glassdoor</td>\n",
       "    </tr>\n",
       "    <tr>\n",
       "      <th>18</th>\n",
       "      <td>jobs.jobsinfo</td>\n",
       "      <td>18</td>\n",
       "      <td>Juni Learning</td>\n",
       "      <td>Integrity First Technology Services is a local...</td>\n",
       "      <td>Fresno, CA</td>\n",
       "      <td>https://www.glassdoor.com/partner/jobListing.h...</td>\n",
       "      <td>glassdoor</td>\n",
       "    </tr>\n",
       "    <tr>\n",
       "      <th>19</th>\n",
       "      <td>jobs.jobsinfo</td>\n",
       "      <td>19</td>\n",
       "      <td>Integrity First Technology Services, LLC</td>\n",
       "      <td>This position will support the Federal Governm...</td>\n",
       "      <td>Fresno, CA</td>\n",
       "      <td>https://www.glassdoor.com/partner/jobListing.h...</td>\n",
       "      <td>glassdoor</td>\n",
       "    </tr>\n",
       "    <tr>\n",
       "      <th>20</th>\n",
       "      <td>jobs.jobsinfo</td>\n",
       "      <td>20</td>\n",
       "      <td>US Department of Veterans Affairs</td>\n",
       "      <td>This position will support the Federal Governm...</td>\n",
       "      <td>Fresno, CA</td>\n",
       "      <td>https://www.glassdoor.com/partner/jobListing.h...</td>\n",
       "      <td>glassdoor</td>\n",
       "    </tr>\n",
       "    <tr>\n",
       "      <th>21</th>\n",
       "      <td>jobs.jobsinfo</td>\n",
       "      <td>21</td>\n",
       "      <td>US Department of Veterans Affairs</td>\n",
       "      <td>Do you love working with kids and inspiring th...</td>\n",
       "      <td>Fresno, CA</td>\n",
       "      <td>https://www.glassdoor.com/partner/jobListing.h...</td>\n",
       "      <td>glassdoor</td>\n",
       "    </tr>\n",
       "    <tr>\n",
       "      <th>22</th>\n",
       "      <td>jobs.jobsinfo</td>\n",
       "      <td>22</td>\n",
       "      <td>Juni Learning</td>\n",
       "      <td>In order for your application to be considered...</td>\n",
       "      <td>Friant, CA</td>\n",
       "      <td>https://www.glassdoor.com/partner/jobListing.h...</td>\n",
       "      <td>glassdoor</td>\n",
       "    </tr>\n",
       "  </tbody>\n",
       "</table>\n",
       "</div>"
      ],
      "text/plain": [
       "            model  pk                           fields.jobTitle  \\\n",
       "0   jobs.jobsinfo   0                                 Bixly Inc   \n",
       "1   jobs.jobsinfo   1                     Table Mountain Casino   \n",
       "2   jobs.jobsinfo   2                                  Grundfos   \n",
       "3   jobs.jobsinfo   3                                 Bixly Inc   \n",
       "4   jobs.jobsinfo   4                        Bank of the Sierra   \n",
       "5   jobs.jobsinfo   5                              Sante Health   \n",
       "6   jobs.jobsinfo   6                       McMillan Consulting   \n",
       "7   jobs.jobsinfo   7                               Unique Loom   \n",
       "8   jobs.jobsinfo   8                               DPS Telecom   \n",
       "9   jobs.jobsinfo   9                          HCL Technologies   \n",
       "10  jobs.jobsinfo  10                  Internal Revenue Service   \n",
       "11  jobs.jobsinfo  11                        City of Fresno, CA   \n",
       "12  jobs.jobsinfo  12                        City of Fresno, CA   \n",
       "13  jobs.jobsinfo  13                        Assemi Group, Inc.   \n",
       "14  jobs.jobsinfo  14                       McMillan Consulting   \n",
       "15  jobs.jobsinfo  15                               DPS Telecom   \n",
       "16  jobs.jobsinfo  16          Staffigo Technical Services, LLC   \n",
       "17  jobs.jobsinfo  17                                  Revature   \n",
       "18  jobs.jobsinfo  18                             Juni Learning   \n",
       "19  jobs.jobsinfo  19  Integrity First Technology Services, LLC   \n",
       "20  jobs.jobsinfo  20         US Department of Veterans Affairs   \n",
       "21  jobs.jobsinfo  21         US Department of Veterans Affairs   \n",
       "22  jobs.jobsinfo  22                             Juni Learning   \n",
       "\n",
       "                                   fields.description fields.place  \\\n",
       "0   Looking to join a great local team of freakish...   Fresno, CA   \n",
       "1   \\n\\n \\n\\n\\n Deadline: 2020-05-01\\n\\n\\n\\n Locat...   Fresno, CA   \n",
       "2   Looking to join a great local team of freakish...   Fresno, CA   \n",
       "3   SUMMARY\\n\\nBank of the Sierra is seeking a Ris...   Fresno, CA   \n",
       "4   Sant Health SystemofFresno, CAis seeking to hi...   Fresno, CA   \n",
       "5   Technical Support Specialist:\\n\\nWe are a well...   Fresno, CA   \n",
       "6   \\nPurpose of Job:\\n\\n\\n\\n This position is mai...   Fresno, CA   \n",
       "7   Entry Level Software Programmer: Job Duties\\n\\...   Fresno, CA   \n",
       "8   Entry Level Software Programmer: Job Duties\\n\\...   Fresno, CA   \n",
       "9   The U.S. Department of the Treasury has a dist...   Fresno, CA   \n",
       "10  RECRUITMENT IS OPEN UNTIL FILLED OR UNTIL A SU...   Fresno, CA   \n",
       "11  Under supervision, Network Systems Specialists...   Fresno, CA   \n",
       "12  Job Title: Data Engineer\\n\\nDepartment: IT\\n\\n...   Fresno, CA   \n",
       "13  Network Engineer:\\n\\nWe are a well-established...   Fresno, CA   \n",
       "14  Web Software Developer: Job Duties\\n\\nAs a Sof...   Fresno, CA   \n",
       "15  We are seeking a Talented and Driven Business ...   Fresno, CA   \n",
       "16  Revature is the fastest growing employer of em...   Fresno, CA   \n",
       "17  Do you love working with kids and inspiring th...   Fresno, CA   \n",
       "18  Integrity First Technology Services is a local...   Fresno, CA   \n",
       "19  This position will support the Federal Governm...   Fresno, CA   \n",
       "20  This position will support the Federal Governm...   Fresno, CA   \n",
       "21  Do you love working with kids and inspiring th...   Fresno, CA   \n",
       "22  In order for your application to be considered...   Friant, CA   \n",
       "\n",
       "                                          fields.link fields.site  \n",
       "0   https://www.glassdoor.com/partner/jobListing.h...   glassdoor  \n",
       "1   https://www.glassdoor.com/partner/jobListing.h...   glassdoor  \n",
       "2   https://www.glassdoor.com/partner/jobListing.h...   glassdoor  \n",
       "3   https://www.glassdoor.com/partner/jobListing.h...   glassdoor  \n",
       "4   https://www.glassdoor.com/partner/jobListing.h...   glassdoor  \n",
       "5   https://www.glassdoor.com/partner/jobListing.h...   glassdoor  \n",
       "6   https://www.glassdoor.com/partner/jobListing.h...   glassdoor  \n",
       "7   https://www.glassdoor.com/partner/jobListing.h...   glassdoor  \n",
       "8   https://www.glassdoor.com/partner/jobListing.h...   glassdoor  \n",
       "9   https://www.glassdoor.com/partner/jobListing.h...   glassdoor  \n",
       "10  https://www.glassdoor.com/partner/jobListing.h...   glassdoor  \n",
       "11  https://www.glassdoor.com/partner/jobListing.h...   glassdoor  \n",
       "12  https://www.glassdoor.com/partner/jobListing.h...   glassdoor  \n",
       "13  https://www.glassdoor.com/partner/jobListing.h...   glassdoor  \n",
       "14  https://www.glassdoor.com/partner/jobListing.h...   glassdoor  \n",
       "15  https://www.glassdoor.com/partner/jobListing.h...   glassdoor  \n",
       "16  https://www.glassdoor.com/partner/jobListing.h...   glassdoor  \n",
       "17  https://www.glassdoor.com/partner/jobListing.h...   glassdoor  \n",
       "18  https://www.glassdoor.com/partner/jobListing.h...   glassdoor  \n",
       "19  https://www.glassdoor.com/partner/jobListing.h...   glassdoor  \n",
       "20  https://www.glassdoor.com/partner/jobListing.h...   glassdoor  \n",
       "21  https://www.glassdoor.com/partner/jobListing.h...   glassdoor  \n",
       "22  https://www.glassdoor.com/partner/jobListing.h...   glassdoor  "
      ]
     },
     "execution_count": 4,
     "metadata": {},
     "output_type": "execute_result"
    }
   ],
   "source": [
    "#extract descriptions\n",
    "df_fields = pd.json_normalize(data,max_level=1)\n",
    "df_fields"
   ]
  },
  {
   "cell_type": "code",
   "execution_count": 5,
   "metadata": {},
   "outputs": [
    {
     "data": {
      "text/plain": [
       "\"Looking to join a great local team of freakishly smart developers? We've got more projects than we can handle, so come join our team!\\n\\nWe are Bixly, a custom software development company. We're based in Fresno, CA, but we also do business on an international level. Check us out at http://www.bixly.com. Having grown tremendously in our 10+ years, we are looking for even more growth. We have quality clients, a strong, small local team, and programmers here and abroad.\\n\\nThis position is full time, and we have health insurance. We are very flexible with work schedules, and provide paid time off.\\n\\nWhat we expect out of you is the same we expect from ourselves:\\n\\n\\nNo jerks, punks, know-it-alls\\nInnovative ideas and strategies. We invest in sharp people and like to know what you can bring to the table to make us better.\\nConsistently communicate your point clearly and concisely over email, IM, and verbally\\n\\nRequirements for the Job:\\n\\n\\nExperience with React\\nFamiliarity with JavaScript, and it's large ecosystem\\nBasic understanding of internet protocols like HTTP, SSH, and S/FTP\\nExperience working in a code revision management system like Git\\n\\nSerious bonus points:\\n\\n\\nA deep understanding of contemporary Computer Science principals\\nExperience to the level of proficiency with TypeScript\\nFamiliarity with HTML/CSS\\nExperience with relational and non-relational database design and implementation\\nAdvanced experience with REST, SOAP, GraphQL, and Websockets for API communication\\nDemonstrable experience of planning, developing, and deploying at least one product\\nLocal to the Fresno area\\n\\nWhen filling out your application, be sure to include a short letter as to why you're interested in the role and please include a link to a git repo so we can review some code samples.\""
      ]
     },
     "execution_count": 5,
     "metadata": {},
     "output_type": "execute_result"
    }
   ],
   "source": [
    "df_fields['fields.description'][0]"
   ]
  },
  {
   "cell_type": "code",
   "execution_count": 6,
   "metadata": {},
   "outputs": [],
   "source": [
    "# Now the next step is to break the text into individual sentences. \n",
    "# We will use the sent_tokenize( ) function of the nltk library to do this.\n",
    "\n",
    "from nltk.tokenize import sent_tokenize\n",
    "sentences = []\n",
    "#for s in df_fields['fields.description']:\n",
    "sentences.append(sent_tokenize(df_fields['fields.description'][0]))\n",
    "\n",
    "sentences = [y for x in sentences for y in x] # flatten list\n"
   ]
  },
  {
   "cell_type": "code",
   "execution_count": 7,
   "metadata": {},
   "outputs": [
    {
     "data": {
      "text/plain": [
       "['Looking to join a great local team of freakishly smart developers?',\n",
       " \"We've got more projects than we can handle, so come join our team!\",\n",
       " 'We are Bixly, a custom software development company.',\n",
       " \"We're based in Fresno, CA, but we also do business on an international level.\",\n",
       " 'Check us out at http://www.bixly.com.',\n",
       " 'Having grown tremendously in our 10+ years, we are looking for even more growth.',\n",
       " 'We have quality clients, a strong, small local team, and programmers here and abroad.',\n",
       " 'This position is full time, and we have health insurance.',\n",
       " 'We are very flexible with work schedules, and provide paid time off.',\n",
       " 'What we expect out of you is the same we expect from ourselves:\\n\\n\\nNo jerks, punks, know-it-alls\\nInnovative ideas and strategies.']"
      ]
     },
     "execution_count": 7,
     "metadata": {},
     "output_type": "execute_result"
    }
   ],
   "source": [
    "# print a few elements of the list sentences.\n",
    "sentences[:10]"
   ]
  },
  {
   "cell_type": "code",
   "execution_count": 8,
   "metadata": {},
   "outputs": [],
   "source": [
    "# Extract word vectors\n",
    "# using pre-trained Wikipedia 2014 + Gigaword 5 GloVe vectors \n",
    "# you can download it @ https://nlp.stanford.edu/data/glove.6B.zip\n",
    "\n",
    "word_embeddings = {}\n",
    "f = open('glove.6B.100d.txt', encoding='utf-8')\n",
    "for line in f:\n",
    "    values = line.split()\n",
    "    word = values[0]\n",
    "    coefs = np.asarray(values[1:], dtype='float32')\n",
    "    word_embeddings[word] = coefs\n",
    "f.close()"
   ]
  },
  {
   "cell_type": "code",
   "execution_count": 9,
   "metadata": {},
   "outputs": [
    {
     "data": {
      "text/plain": [
       "400000"
      ]
     },
     "execution_count": 9,
     "metadata": {},
     "output_type": "execute_result"
    }
   ],
   "source": [
    "len(word_embeddings)"
   ]
  },
  {
   "cell_type": "code",
   "execution_count": 10,
   "metadata": {},
   "outputs": [],
   "source": [
    "# remove punctuations, numbers and special characters\n",
    "clean_sentences = pd.Series(sentences).str.replace(\"[^a-zA-Z]\", \" \")\n",
    "\n",
    "# make alphabets lowercase\n",
    "clean_sentences = [s.lower() for s in clean_sentences]"
   ]
  },
  {
   "cell_type": "code",
   "execution_count": 11,
   "metadata": {},
   "outputs": [],
   "source": [
    "# Get rid of the stopwords\n",
    "#nltk.download('stopwords')"
   ]
  },
  {
   "cell_type": "code",
   "execution_count": 12,
   "metadata": {},
   "outputs": [],
   "source": [
    "# import the stopwords\n",
    "from nltk.corpus import stopwords\n",
    "stop_words = stopwords.words('english')"
   ]
  },
  {
   "cell_type": "code",
   "execution_count": 13,
   "metadata": {},
   "outputs": [],
   "source": [
    "# function to remove these stopwords from our dataset\n",
    "def remove_stopwords(sen):\n",
    "    sen_new = \" \".join([i for i in sen if i not in stop_words])\n",
    "    return sen_new"
   ]
  },
  {
   "cell_type": "code",
   "execution_count": 14,
   "metadata": {},
   "outputs": [],
   "source": [
    "# remove stopwords from the sentences\n",
    "clean_sentences = [remove_stopwords(r.split()) for r in clean_sentences]"
   ]
  },
  {
   "cell_type": "code",
   "execution_count": 15,
   "metadata": {},
   "outputs": [],
   "source": [
    "# create vectors for our sentences\n",
    "sentence_vectors = []\n",
    "for i in clean_sentences:\n",
    "  if len(i) != 0:\n",
    "    v = sum([word_embeddings.get(w, np.zeros((100,))) for w in i.split()])/(len(i.split())+0.001)\n",
    "  else:\n",
    "    v = np.zeros((100,))\n",
    "  sentence_vectors.append(v)"
   ]
  },
  {
   "cell_type": "code",
   "execution_count": 16,
   "metadata": {},
   "outputs": [],
   "source": [
    "# similarity matrix\n",
    "sim_mat = np.zeros([len(sentences), len(sentences)])"
   ]
  },
  {
   "cell_type": "code",
   "execution_count": 17,
   "metadata": {},
   "outputs": [],
   "source": [
    "from sklearn.metrics.pairwise import cosine_similarity\n",
    "\n",
    "# initialize the matrix with cosine similarity scores.\n",
    "for i in range(len(sentences)):\n",
    "  for j in range(len(sentences)):\n",
    "    if i != j:\n",
    "      sim_mat[i][j] = cosine_similarity(sentence_vectors[i].reshape(1,100), sentence_vectors[j].reshape(1,100))[0,0]"
   ]
  },
  {
   "cell_type": "code",
   "execution_count": 18,
   "metadata": {},
   "outputs": [],
   "source": [
    "# Applying PageRank Algorithm\n",
    "import networkx as nx\n",
    "\n",
    "nx_graph = nx.from_numpy_array(sim_mat)\n",
    "scores = nx.pagerank(nx_graph)"
   ]
  },
  {
   "cell_type": "code",
   "execution_count": 19,
   "metadata": {},
   "outputs": [],
   "source": [
    "#Summary Extraction\n",
    "ranked_sentences = sorted(((scores[i],s) for i,s in enumerate(sentences)), reverse=True)"
   ]
  },
  {
   "cell_type": "code",
   "execution_count": 20,
   "metadata": {},
   "outputs": [
    {
     "name": "stdout",
     "output_type": "stream",
     "text": [
      "We invest in sharp people and like to know what you can bring to the table to make us better.\n"
     ]
    },
    {
     "ename": "NameError",
     "evalue": "name 's' is not defined",
     "output_type": "error",
     "traceback": [
      "\u001b[1;31m---------------------------------------------------------------------------\u001b[0m",
      "\u001b[1;31mNameError\u001b[0m                                 Traceback (most recent call last)",
      "\u001b[1;32m<ipython-input-20-8b6136021d19>\u001b[0m in \u001b[0;36m<module>\u001b[1;34m\u001b[0m\n\u001b[0;32m      4\u001b[0m \u001b[1;32mfor\u001b[0m \u001b[0mi\u001b[0m \u001b[1;32min\u001b[0m \u001b[0mrange\u001b[0m\u001b[1;33m(\u001b[0m\u001b[0mmath\u001b[0m\u001b[1;33m.\u001b[0m\u001b[0mceil\u001b[0m\u001b[1;33m(\u001b[0m\u001b[0mlen\u001b[0m\u001b[1;33m(\u001b[0m\u001b[0mranked_sentences\u001b[0m\u001b[1;33m)\u001b[0m\u001b[1;33m/\u001b[0m\u001b[1;36m3\u001b[0m\u001b[1;33m)\u001b[0m\u001b[1;33m)\u001b[0m\u001b[1;33m:\u001b[0m\u001b[1;33m\u001b[0m\u001b[1;33m\u001b[0m\u001b[0m\n\u001b[0;32m      5\u001b[0m     \u001b[0mprint\u001b[0m\u001b[1;33m(\u001b[0m\u001b[0mranked_sentences\u001b[0m\u001b[1;33m[\u001b[0m\u001b[0mi\u001b[0m\u001b[1;33m]\u001b[0m\u001b[1;33m[\u001b[0m\u001b[1;36m1\u001b[0m\u001b[1;33m]\u001b[0m\u001b[1;33m)\u001b[0m\u001b[1;33m\u001b[0m\u001b[1;33m\u001b[0m\u001b[0m\n\u001b[1;32m----> 6\u001b[1;33m     \u001b[0ms\u001b[0m \u001b[1;33m+=\u001b[0m \u001b[0mranked_sentences\u001b[0m\u001b[1;33m[\u001b[0m\u001b[0mi\u001b[0m\u001b[1;33m]\u001b[0m\u001b[1;33m[\u001b[0m\u001b[1;36m1\u001b[0m\u001b[1;33m]\u001b[0m\u001b[1;33m\u001b[0m\u001b[1;33m\u001b[0m\u001b[0m\n\u001b[0m",
      "\u001b[1;31mNameError\u001b[0m: name 's' is not defined"
     ]
    }
   ],
   "source": [
    "import math\n",
    "# Extract top 10 sentences as the summary\n",
    "\n",
    "for i in range(math.ceil(len(ranked_sentences)/3)):\n",
    "    print(ranked_sentences[i][1])\n",
    "    s += ranked_sentences[i][1]\n"
   ]
  },
  {
   "cell_type": "code",
   "execution_count": null,
   "metadata": {},
   "outputs": [],
   "source": [
    "from gensim.summarization.summarizer import summarize\n",
    "s = (summarize(s,ratio=0.1))\n",
    "print(s)"
   ]
  },
  {
   "cell_type": "code",
   "execution_count": null,
   "metadata": {},
   "outputs": [],
   "source": [
    "#print(s)\n",
    "df_fields['fields.description'][0] = s\n",
    "df.fields[0]['description'] = s"
   ]
  },
  {
   "cell_type": "code",
   "execution_count": null,
   "metadata": {
    "scrolled": true
   },
   "outputs": [],
   "source": [
    "df.fields[0]['description']"
   ]
  },
  {
   "cell_type": "code",
   "execution_count": null,
   "metadata": {},
   "outputs": [],
   "source": [
    "df"
   ]
  },
  {
   "cell_type": "code",
   "execution_count": null,
   "metadata": {},
   "outputs": [],
   "source": []
  },
  {
   "cell_type": "code",
   "execution_count": null,
   "metadata": {},
   "outputs": [],
   "source": [
    "import io\n",
    "import json\n",
    "\n",
    "x={}\n",
    "for i in range(len(df)):\n",
    "    temp={}\n",
    "    temp[\"model\"] = \"jobs.jobsinfo\"\n",
    "    temp[\"pk\"]= i\n",
    "    x[i]=temp\n",
    "    x[i][\"fields\"]={\n",
    "        \"JobTitle\":(df.fields[i]['JobTitle']),\n",
    "        \"organization\":(df.fields[i]['organization']),\n",
    "        \"description\": df.fields[i]['description'],\n",
    "        \"salary\":(df.fields[i]['salary']),\n",
    "        \"place\":df.fields[i]['place'],\n",
    "        \"link\":df.fields[i]['link'],\n",
    "        \"site\":df.fields[i]['site']}\n",
    "x=list(x.values())\n",
    "    \n",
    "with io.open('test.json', 'w',encoding='windows-1252') as fp:\n",
    "    json.dump(x,fp)\n",
    "#Note: My django did not like indents so I got rid of them"
   ]
  },
  {
   "cell_type": "code",
   "execution_count": null,
   "metadata": {},
   "outputs": [],
   "source": []
  }
 ],
 "metadata": {
  "kernelspec": {
   "display_name": "Python 3",
   "language": "python",
   "name": "python3"
  },
  "language_info": {
   "codemirror_mode": {
    "name": "ipython",
    "version": 3
   },
   "file_extension": ".py",
   "mimetype": "text/x-python",
   "name": "python",
   "nbconvert_exporter": "python",
   "pygments_lexer": "ipython3",
   "version": "3.6.10"
  }
 },
 "nbformat": 4,
 "nbformat_minor": 4
}
