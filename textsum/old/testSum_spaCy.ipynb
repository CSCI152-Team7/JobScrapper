{
 "cells": [
  {
   "cell_type": "code",
   "execution_count": 74,
   "metadata": {},
   "outputs": [],
   "source": [
    "# textsumExample to get a feel for text summerization\n",
    "# importing libraries for text summerization\n",
    "import io\n",
    "import json\n",
    "from pandas.io.json import json_normalize\n",
    "import numpy as np\n",
    "import pandas as pd\n",
    "import nltk\n",
    "import re\n",
    "from nltk.corpus import stopwords\n",
    "from nltk.tokenize import sent_tokenize\n",
    "import networkx as nx\n",
    "import math\n",
    "from sklearn.metrics.pairwise import cosine_similarity\n",
    "from gensim.summarization.summarizer import summarize"
   ]
  },
  {
   "cell_type": "code",
   "execution_count": 75,
   "metadata": {},
   "outputs": [],
   "source": [
    "# function to remove these stopwords from our dataset\n",
    "def remove_stopwords(sen):\n",
    "    sen_new = \" \".join([i for i in sen if i not in stop_words])\n",
    "    return sen_new\n",
    "\n",
    "# Extract word vectors\n",
    "# using pre-trained Wikipedia 2014 + Gigaword 5 GloVe vectors\n",
    "# you can download it @ https://nlp.stanford.edu/data/glove.6B.zip\n",
    "\n",
    "def get_rank(myList = [],*args):\n",
    "    textrank = ''\n",
    "    for i in range(math.ceil(len(ranked_sentences)/3)):\n",
    "        textrank += (ranked_sentences[i][1])\n",
    "    return textrank    \n",
    "\n",
    "word_embeddings = {}\n",
    "f = open('glove.6B.100d.txt', encoding='utf-8')\n",
    "for line in f:\n",
    "    values = line.split()\n",
    "    word = values[0]\n",
    "    coefs = np.asarray(values[1:], dtype='float32')\n",
    "    word_embeddings[word] = coefs\n",
    "f.close()\n",
    "\n",
    "# create dataframe for article to munipulate\n",
    "df = pd.read_json(\"update.json\")\n",
    "with open('update.json',encoding=\"utf8\") as data_file:\n",
    "    data = json.load(data_file)\n",
    "\n",
    "#normalize df\n",
    "df_fields = pd.json_normalize(data,max_level=1)\n"
   ]
  },
  {
   "cell_type": "code",
   "execution_count": 76,
   "metadata": {},
   "outputs": [],
   "source": [
    "#sumtext = df_fields['fields.description'][0] \n",
    "#df.fields[0]['description']\n",
    "\n",
    "\n",
    "#sumtext_s = (summarize(sumtext,ratio=0.15))"
   ]
  },
  {
   "cell_type": "code",
   "execution_count": 77,
   "metadata": {},
   "outputs": [],
   "source": [
    "sumtext = df_fields['fields.description'][0] "
   ]
  },
  {
   "cell_type": "code",
   "execution_count": 78,
   "metadata": {},
   "outputs": [],
   "source": [
    "sentences = []\n",
    "#for s in df_fields['fields.description']:\n",
    "sentences.append(sent_tokenize(df_fields['fields.description'][0]))\n",
    "\n",
    "sentences = [y for x in sentences for y in x] # flatten list"
   ]
  },
  {
   "cell_type": "code",
   "execution_count": 79,
   "metadata": {},
   "outputs": [],
   "source": [
    "# remove punctuations, numbers and special characters\n",
    "clean_sentences = pd.Series(sentences).str.replace(\"[^a-zA-Z]\", \" \")\n",
    "\n",
    "# make alphabets lowercase\n",
    "clean_sentences = [s.lower() for s in clean_sentences]"
   ]
  },
  {
   "cell_type": "code",
   "execution_count": 80,
   "metadata": {},
   "outputs": [],
   "source": [
    "stop_words = stopwords.words('english')"
   ]
  },
  {
   "cell_type": "code",
   "execution_count": 81,
   "metadata": {},
   "outputs": [],
   "source": [
    "# create vectors for our sentences\n",
    "sentence_vectors = []\n",
    "for i in clean_sentences:\n",
    "  if len(i) != 0:\n",
    "    v = sum([word_embeddings.get(w, np.zeros((100,))) for w in i.split()])/(len(i.split())+0.001)\n",
    "  else:\n",
    "    v = np.zeros((100,))\n",
    "  sentence_vectors.append(v)"
   ]
  },
  {
   "cell_type": "code",
   "execution_count": 82,
   "metadata": {},
   "outputs": [],
   "source": [
    "# similarity matrix\n",
    "sim_mat = np.zeros([len(sentences), len(sentences)])"
   ]
  },
  {
   "cell_type": "code",
   "execution_count": 83,
   "metadata": {},
   "outputs": [],
   "source": [
    "# initialize the matrix with cosine similarity scores.\n",
    "for i in range(len(sentences)):\n",
    "  for j in range(len(sentences)):\n",
    "    if i != j:\n",
    "      sim_mat[i][j] = cosine_similarity(sentence_vectors[i].reshape(1,100), sentence_vectors[j].reshape(1,100))[0,0]"
   ]
  },
  {
   "cell_type": "code",
   "execution_count": 84,
   "metadata": {},
   "outputs": [],
   "source": [
    "\n",
    "nx_graph = nx.from_numpy_array(sim_mat)\n",
    "scores = nx.pagerank(nx_graph)"
   ]
  },
  {
   "cell_type": "code",
   "execution_count": 85,
   "metadata": {},
   "outputs": [],
   "source": [
    "#Summary Extraction\n",
    "ranked_sentences = sorted(((scores[i],s) for i,s in enumerate(sentences)), reverse=True)"
   ]
  },
  {
   "cell_type": "code",
   "execution_count": 86,
   "metadata": {},
   "outputs": [
    {
     "name": "stdout",
     "output_type": "stream",
     "text": [
      "Ensure that projects are completed on time and they meet all business, systems, and quality requirements.\n",
      "Manages communication plan for project status, issues, and risks; provides project performance metrics with a focus on status, budgets, and projections.\n",
      "Manages activities of project teams, controlling the indirect management of resources and schedules to ensure timely completion.\n",
      "Position Type:\n",
      "Full Time\n",
      "\n",
      "Responsibilities:\n",
      "\n",
      "\tDefine, orchestrate, and manage the holistic project life cycle, delivery cadence, and release plan.\n",
      "Collaborate with IT service teams to develop detailed work plans, including work breakdown structures, project milestones, risk assessment/management plans, staffing needs, project timelines, and budgets.\n"
     ]
    }
   ],
   "source": [
    "for i in range(5):\n",
    "    print(ranked_sentences[i][1])"
   ]
  },
  {
   "cell_type": "code",
   "execution_count": 87,
   "metadata": {},
   "outputs": [],
   "source": [
    "text = get_rank(ranked_sentences)"
   ]
  },
  {
   "cell_type": "code",
   "execution_count": 88,
   "metadata": {},
   "outputs": [
    {
     "data": {
      "text/plain": [
       "'Ensure that projects are completed on time and they meet all business, systems, and quality requirements.Manages communication plan for project status, issues, and risks; provides project performance metrics with a focus on status, budgets, and projections.Manages activities of project teams, controlling the indirect management of resources and schedules to ensure timely completion.Position Type:\\nFull Time\\n\\nResponsibilities:\\n\\n\\tDefine, orchestrate, and manage the holistic project life cycle, delivery cadence, and release plan.Collaborate with IT service teams to develop detailed work plans, including work breakdown structures, project milestones, risk assessment/management plans, staffing needs, project timelines, and budgets.This includes acquiring resources and coordinating the efforts of team members to deliver projects according to plan.Minimum of six (6) years directly related experience in an IT project management capacity, including all aspects of process development and execution.Work closely with project sponsors and stakeholders to define project scope and release plans.'"
      ]
     },
     "execution_count": 88,
     "metadata": {},
     "output_type": "execute_result"
    }
   ],
   "source": [
    "text"
   ]
  },
  {
   "cell_type": "code",
   "execution_count": 89,
   "metadata": {},
   "outputs": [],
   "source": [
    "t = \"Promote our values and mission, and serve as a role model for kids of all\\n backgrounds and ages.Instructors can set their availability and generally work with their students at a ,regular time once or twice a week.All classes are taught remotely, using the curriculum and digital tools developed by Juni.We've designed the instructor role to be a flexible part-time position.Commitment to providing students a great educationInstructors\\n will use the curriculum and ,teaching tools developed by Juni Learning.We look for instructors with a great attitude and desire to help kids build resilience and grit alongside their coding skills.\""
   ]
  },
  {
   "cell_type": "code",
   "execution_count": 92,
   "metadata": {},
   "outputs": [
    {
     "name": "stdout",
     "output_type": "stream",
     "text": [
      "\n"
     ]
    },
    {
     "data": {
      "text/plain": [
       "'Ensure that projects are completed on time and they meet all business, systems, and quality requirements.Manages communication plan for project status, issues, and risks; provides project performance metrics with a focus on status, budgets, and projections.Manages activities of project teams, controlling the indirect management of resources and schedules to ensure timely completion.Position Type:\\nFull Time\\n\\nResponsibilities:\\n\\n\\tDefine, orchestrate, and manage the holistic project life cycle, delivery cadence, and release plan.Collaborate with IT service teams to develop detailed work plans, including work breakdown structures, project milestones, risk assessment/management plans, staffing needs, project timelines, and budgets.This includes acquiring resources and coordinating the efforts of team members to deliver projects according to plan.Minimum of six (6) years directly related experience in an IT project management capacity, including all aspects of process development and execution.Work closely with project sponsors and stakeholders to define project scope and release plans.'"
      ]
     },
     "execution_count": 92,
     "metadata": {},
     "output_type": "execute_result"
    }
   ],
   "source": [
    "print(summarize(t))\n"
   ]
  },
  {
   "cell_type": "code",
   "execution_count": 91,
   "metadata": {},
   "outputs": [],
   "source": [
    "df.fields[0]['description'] = text"
   ]
  },
  {
   "cell_type": "code",
   "execution_count": 97,
   "metadata": {},
   "outputs": [],
   "source": [
    "t = summarize(text)"
   ]
  },
  {
   "cell_type": "code",
   "execution_count": 98,
   "metadata": {},
   "outputs": [],
   "source": [
    "if (t == ''):\n",
    "    df.fields[0]['description'] = text\n",
    "else:\n",
    "    df.fields[0]['description'] = t"
   ]
  },
  {
   "cell_type": "code",
   "execution_count": 99,
   "metadata": {},
   "outputs": [
    {
     "data": {
      "text/plain": [
       "\"Promote our values and mission, and serve as a role model for kids of all backgrounds and ages.Instructors can set their availability and generally work with their students at a regular time, once or twice a week.All classes are taught remotely, using the curriculum and digital tools developed by Juni.We've designed the instructor role to be a flexible part-time position.Commitment to providing students a great education:\\n\\n\\n\\nInstructors will use the curriculum and teaching tools developed by Juni Learning.We look for instructors with a great attitude and desire to help kids build resilience and grit alongside their coding skills.\""
      ]
     },
     "execution_count": 99,
     "metadata": {},
     "output_type": "execute_result"
    }
   ],
   "source": [
    "df.fields[0]['description']"
   ]
  },
  {
   "cell_type": "code",
   "execution_count": null,
   "metadata": {},
   "outputs": [],
   "source": []
  },
  {
   "cell_type": "code",
   "execution_count": 96,
   "metadata": {},
   "outputs": [],
   "source": [
    "for z in range(len(df)):\n",
    "    sumtext = df_fields['fields.description'][z]\n",
    "\n",
    "    sentences = []\n",
    "    #for s in df_fields['fields.description']:\n",
    "    sentences.append(sent_tokenize(df_fields['fields.description'][z]))\n",
    "\n",
    "    sentences = [y for x in sentences for y in x] # flatten list\n",
    "\n",
    "    # remove punctuations, numbers and special characters\n",
    "    clean_sentences = pd.Series(sentences).str.replace(\"[^a-zA-Z]\", \" \")\n",
    "\n",
    "    # make alphabets lowercase\n",
    "    clean_sentences = [s.lower() for s in clean_sentences]\n",
    "\n",
    "    stop_words = stopwords.words('english')\n",
    "\n",
    "    # create vectors for our sentences\n",
    "    sentence_vectors = []\n",
    "    for i in clean_sentences:\n",
    "      if len(i) != 0:\n",
    "        v = sum([word_embeddings.get(w, np.zeros((100,))) for w in i.split()])/(len(i.split())+0.001)\n",
    "      else:\n",
    "        v = np.zeros((100,))\n",
    "      sentence_vectors.append(v)\n",
    "\n",
    "      # similarity matrix\n",
    "    sim_mat = np.zeros([len(sentences), len(sentences)])\n",
    "\n",
    "    # initialize the matrix with cosine similarity scores.\n",
    "    for i in range(len(sentences)):\n",
    "      for j in range(len(sentences)):\n",
    "        if i != j:\n",
    "          sim_mat[i][j] = cosine_similarity(sentence_vectors[i].reshape(1,100), sentence_vectors[j].reshape(1,100))[0,0]\n",
    "\n",
    "    nx_graph = nx.from_numpy_array(sim_mat)\n",
    "    scores = nx.pagerank(nx_graph)\n",
    "\n",
    "    #Summary Extraction\n",
    "    ranked_sentences = ''\n",
    "    ranked_sentences = sorted(((scores[i],s) for i,s in enumerate(sentences)), reverse=True)    \n",
    "    text = get_rank(ranked_sentences)\n",
    "    t = summarize(text)\n",
    "    if (t == ''):\n",
    "        df.fields[z]['description'] = text\n",
    "    else:\n",
    "        df.fields[z]['description'] = t\n",
    "    df.fields[z]['description'] = text\n"
   ]
  },
  {
   "cell_type": "code",
   "execution_count": 100,
   "metadata": {},
   "outputs": [],
   "source": [
    "x={}\n",
    "for i in range(len(df)):\n",
    "    temp={}\n",
    "    temp[\"model\"] = \"jobs.jobsinfo\"\n",
    "    temp[\"pk\"]= i\n",
    "    x[i]=temp\n",
    "    x[i][\"fields\"]={\n",
    "        \"JobTitle\":(df.fields[i]['JobTitle']),\n",
    "        \"organization\":(df.fields[i]['organization']),\n",
    "        \"description\": df.fields[i]['description'],\n",
    "        \"salary\":(df.fields[i]['salary']),\n",
    "        \"place\":df.fields[i]['place'],\n",
    "        \"link\":df.fields[i]['link'],\n",
    "        \"site\":df.fields[i]['site']}\n",
    "x=list(x.values())\n",
    "    \n",
    "with io.open('update_summary.json', 'w',encoding='windows-1252') as fp:\n",
    "    json.dump(x,fp)\n",
    "#Note: My django did not like indents so I got rid of them"
   ]
  },
  {
   "cell_type": "code",
   "execution_count": null,
   "metadata": {},
   "outputs": [],
   "source": []
  },
  {
   "cell_type": "code",
   "execution_count": 50,
   "metadata": {},
   "outputs": [],
   "source": []
  },
  {
   "cell_type": "code",
   "execution_count": 52,
   "metadata": {},
   "outputs": [],
   "source": []
  },
  {
   "cell_type": "code",
   "execution_count": 53,
   "metadata": {},
   "outputs": [
    {
     "data": {
      "text/plain": [
       "''"
      ]
     },
     "execution_count": 53,
     "metadata": {},
     "output_type": "execute_result"
    }
   ],
   "source": []
  },
  {
   "cell_type": "code",
   "execution_count": null,
   "metadata": {},
   "outputs": [],
   "source": []
  }
 ],
 "metadata": {
  "kernelspec": {
   "display_name": "Python 3",
   "language": "python",
   "name": "python3"
  },
  "language_info": {
   "codemirror_mode": {
    "name": "ipython",
    "version": 3
   },
   "file_extension": ".py",
   "mimetype": "text/x-python",
   "name": "python",
   "nbconvert_exporter": "python",
   "pygments_lexer": "ipython3",
   "version": "3.6.10"
  }
 },
 "nbformat": 4,
 "nbformat_minor": 4
}
