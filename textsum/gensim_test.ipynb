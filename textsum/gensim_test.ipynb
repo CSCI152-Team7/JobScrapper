{
 "cells": [
  {
   "cell_type": "code",
   "execution_count": 4,
   "metadata": {},
   "outputs": [],
   "source": [
    "import json\n",
    "import pandas as pd"
   ]
  },
  {
   "cell_type": "code",
   "execution_count": 14,
   "metadata": {},
   "outputs": [],
   "source": [
    "# create dataframe for article to munipulate\n",
    "df = pd.read_json(\"update_summary.json\",encoding=\"utf8\")\n",
    "with open(\"update_summary.json\",encoding=\"utf8\") as data_file:\n",
    "    data = json.load(data_file)"
   ]
  },
  {
   "cell_type": "code",
   "execution_count": 15,
   "metadata": {},
   "outputs": [],
   "source": [
    "df_fields = pd.json_normalize(data,max_level=1)"
   ]
  },
  {
   "cell_type": "code",
   "execution_count": 16,
   "metadata": {},
   "outputs": [
    {
     "data": {
      "text/plain": [
       "'Ensure that projects are completed on time and they meet all business, systems, and quality requirements.Manages communication plan for project status, issues, and risks; provides project performance metrics with a focus on status, budgets, and projections.Manages activities of project teams, controlling the indirect management of resources and schedules to ensure timely completion.Position Type:\\nFull Time\\n\\nResponsibilities:\\n\\n\\tDefine, orchestrate, and manage the holistic project life cycle, delivery cadence, and release plan.Collaborate with IT service teams to develop detailed work plans, including work breakdown structures, project milestones, risk assessment/management plans, staffing needs, project timelines, and budgets.This includes acquiring resources and coordinating the efforts of team members to deliver projects according to plan.Minimum of six (6) years directly related experience in an IT project management capacity, including all aspects of process development and execution.Work closely with project sponsors and stakeholders to define project scope and release plans.'"
      ]
     },
     "execution_count": 16,
     "metadata": {},
     "output_type": "execute_result"
    }
   ],
   "source": [
    "df_fields[\"fields.description\"][0]"
   ]
  },
  {
   "cell_type": "code",
   "execution_count": 17,
   "metadata": {},
   "outputs": [],
   "source": [
    "from gensim.summarization import summarize"
   ]
  },
  {
   "cell_type": "code",
   "execution_count": 42,
   "metadata": {},
   "outputs": [
    {
     "data": {
      "text/plain": [
       "'Ensure that projects are completed on time and they meet all business, systems, and quality requirements.Manages communication plan for project status, issues, and risks; provides project performance metrics with a focus on status, budgets, and projections.Manages activities of project teams, controlling the indirect management of resources and schedules to ensure timely completion.Position Type:\\nFull Time\\n\\nResponsibilities:\\n\\n\\tDefine, orchestrate, and manage the holistic project life cycle, delivery cadence, and release plan.Collaborate with IT service teams to develop detailed work plans, including work breakdown structures, project milestones, risk assessment/management plans, staffing needs, project timelines, and budgets.This includes acquiring resources and coordinating the efforts of team members to deliver projects according to plan.Minimum of six (6) years directly related experience in an IT project management capacity, including all aspects of process development and execution.Work closely with project sponsors and stakeholders to define project scope and release plans.'"
      ]
     },
     "execution_count": 42,
     "metadata": {},
     "output_type": "execute_result"
    }
   ],
   "source": []
  },
  {
   "cell_type": "code",
   "execution_count": 47,
   "metadata": {},
   "outputs": [
    {
     "data": {
      "text/plain": [
       "'Ensure that projects are completed on time and they meet all business, systems, and quality requirements.Manages communication plan for project status, issues, and risks; provides project performance metrics with a focus on status, budgets, and projections.Manages activities of project teams, controlling the indirect management of resources and schedules to ensure timely completion.Position Type:\\nFull Time\\n\\nResponsibilities:\\n\\n\\tDefine, orchestrate, and manage the holistic project life cycle, delivery cadence, and release plan.Collaborate with IT service teams to develop detailed work plans, including work breakdown structures, project milestones, risk assessment/management plans, staffing needs, project timelines, and budgets.This includes acquiring resources and coordinating the efforts of team members to deliver projects according to plan.Minimum of six (6) years directly related experience in an IT project management capacity, including all aspects of process development and execution.Work closely with project sponsors and stakeholders to define project scope and release plans.'"
      ]
     },
     "execution_count": 47,
     "metadata": {},
     "output_type": "execute_result"
    }
   ],
   "source": []
  },
  {
   "cell_type": "code",
   "execution_count": 41,
   "metadata": {},
   "outputs": [
    {
     "name": "stdout",
     "output_type": "stream",
     "text": [
      "\n"
     ]
    }
   ],
   "source": [
    "print(summarize(df_fields[\"fields.description\"][0]))"
   ]
  },
  {
   "cell_type": "code",
   "execution_count": 55,
   "metadata": {},
   "outputs": [
    {
     "data": {
      "text/plain": [
       "''"
      ]
     },
     "execution_count": 55,
     "metadata": {},
     "output_type": "execute_result"
    }
   ],
   "source": [
    "t = summarize(df_fields[\"fields.description\"][0])\n",
    "t"
   ]
  },
  {
   "cell_type": "code",
   "execution_count": 56,
   "metadata": {},
   "outputs": [
    {
     "name": "stdout",
     "output_type": "stream",
     "text": [
      "empty string\n"
     ]
    }
   ],
   "source": [
    "if (t == ''):\n",
    "    print('empty string')\n",
    "else:\n",
    "    print(t)"
   ]
  },
  {
   "cell_type": "code",
   "execution_count": null,
   "metadata": {},
   "outputs": [],
   "source": []
  }
 ],
 "metadata": {
  "kernelspec": {
   "display_name": "Python 3",
   "language": "python",
   "name": "python3"
  },
  "language_info": {
   "codemirror_mode": {
    "name": "ipython",
    "version": 3
   },
   "file_extension": ".py",
   "mimetype": "text/x-python",
   "name": "python",
   "nbconvert_exporter": "python",
   "pygments_lexer": "ipython3",
   "version": "3.6.10"
  }
 },
 "nbformat": 4,
 "nbformat_minor": 4
}
