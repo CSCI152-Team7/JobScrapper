{
 "cells": [
  {
   "cell_type": "code",
   "execution_count": 1,
   "metadata": {},
   "outputs": [],
   "source": [
    "from urllib.request import urlopen as uReq\n",
    "from bs4 import BeautifulSoup as soup\n",
    "import requests\n",
    "import re"
   ]
  },
  {
   "cell_type": "code",
   "execution_count": 2,
   "metadata": {},
   "outputs": [
    {
     "name": "stdout",
     "output_type": "stream",
     "text": [
      "Fresno\n",
      "Fresno\n"
     ]
    },
    {
     "data": {
      "text/plain": [
       "'https://www.indeed.com/jobs?q=computer+science&l=Fresno'"
      ]
     },
     "execution_count": 2,
     "metadata": {},
     "output_type": "execute_result"
    }
   ],
   "source": [
    "location = input()\n",
    "print(location)\n",
    "myUrl = 'https://www.indeed.com/jobs?q=computer+science&l='+location\n",
    "content = requests.get(myUrl)\n",
    "myUrl"
   ]
  },
  {
   "cell_type": "code",
   "execution_count": 3,
   "metadata": {},
   "outputs": [],
   "source": [
    "soup = soup(content.text, 'html.parser')"
   ]
  },
  {
   "cell_type": "code",
   "execution_count": 4,
   "metadata": {
    "scrolled": true
   },
   "outputs": [
    {
     "data": {
      "text/plain": [
       "['Technical Support Agent',\n",
       " 'Entry Level - Software Developer',\n",
       " 'Web Programmer',\n",
       " 'PC Deskside Technician II',\n",
       " 'Jr. ETL/SQL Developer',\n",
       " 'Computer Systems Specialist III',\n",
       " 'INFORMATION TECHNOLOGY ANALYST III - APPLICATIONS DEVELOPER',\n",
       " 'Application Support Specialist',\n",
       " 'React Developer',\n",
       " 'Network Systems Analyst I/II',\n",
       " 'Python Django Backend Specialist',\n",
       " 'Core Analyst',\n",
       " 'Programmer/Analyst I/II',\n",
       " 'Network Administrator 2, Network',\n",
       " 'Online Computer Science Tutor']"
      ]
     },
     "execution_count": 4,
     "metadata": {},
     "output_type": "execute_result"
    }
   ],
   "source": [
    "jobs=[]\n",
    "for link in soup.select('div.title'):\n",
    "    jobs.append(link.text.lstrip().rstrip())\n",
    "jobs"
   ]
  },
  {
   "cell_type": "code",
   "execution_count": null,
   "metadata": {},
   "outputs": [],
   "source": []
  }
 ],
 "metadata": {
  "kernelspec": {
   "display_name": "Python 3",
   "language": "python",
   "name": "python3"
  },
  "language_info": {
   "codemirror_mode": {
    "name": "ipython",
    "version": 3
   },
   "file_extension": ".py",
   "mimetype": "text/x-python",
   "name": "python",
   "nbconvert_exporter": "python",
   "pygments_lexer": "ipython3",
   "version": "3.7.3"
  }
 },
 "nbformat": 4,
 "nbformat_minor": 2
}
