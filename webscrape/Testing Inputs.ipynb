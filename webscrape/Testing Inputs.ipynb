{
 "cells": [
  {
   "cell_type": "code",
   "execution_count": 50,
   "metadata": {},
   "outputs": [],
   "source": [
    "from urllib.request import urlopen as uReq\n",
    "from bs4 import BeautifulSoup as soup\n",
    "import requests"
   ]
  },
  {
   "cell_type": "code",
   "execution_count": 51,
   "metadata": {},
   "outputs": [
    {
     "name": "stdout",
     "output_type": "stream",
     "text": [
      "Clovis\n",
      "Clovis\n"
     ]
    },
    {
     "data": {
      "text/plain": [
       "'https://www.indeed.com/jobs?q=computer+science&l=Clovis'"
      ]
     },
     "execution_count": 51,
     "metadata": {},
     "output_type": "execute_result"
    }
   ],
   "source": [
    "location = input()\n",
    "print(location)\n",
    "myUrl = 'https://www.indeed.com/jobs?q=computer+science&l='+location\n",
    "content = requests.get(myUrl)\n",
    "myUrl"
   ]
  },
  {
   "cell_type": "code",
   "execution_count": 52,
   "metadata": {},
   "outputs": [],
   "source": [
    "soup = soup(content.text, 'html.parser')"
   ]
  },
  {
   "cell_type": "code",
   "execution_count": 53,
   "metadata": {
    "scrolled": true
   },
   "outputs": [
    {
     "data": {
      "text/plain": [
       "['e31d6d8a7ab398ff',\n",
       " '29b56b2ad42143b4',\n",
       " '631e1ce033a321ca',\n",
       " 'b17704bfd332f140',\n",
       " '250836bcdf67ba39',\n",
       " 'd6687ae4a2118125',\n",
       " 'c3b10c4ce8e3aa7f',\n",
       " 'b3eb65b1d53899aa',\n",
       " '4f66cb79568bfbc2',\n",
       " '848039c05413b99b',\n",
       " 'df3aa6b18eaebfbe',\n",
       " '020d5586beb99a78',\n",
       " '28332b8f1914aa2f',\n",
       " 'affdae11e7053469',\n",
       " '0ed43520304c9053',\n",
       " '072e2d543b4a3b59',\n",
       " '42285f4f9e8835f1',\n",
       " '8e5fefe42336fd1c']"
      ]
     },
     "execution_count": 53,
     "metadata": {},
     "output_type": "execute_result"
    }
   ],
   "source": [
    "jobs=[]\n",
    "updated_url=[]#\"&vjk=\"\n",
    "for link in soup.select('div.jobsearch-SerpJobCard'):\n",
    "    temp = (link.get('id').lstrip('p_'))\n",
    "    temp = temp.lstrip('j_')\n",
    "    updated_url.append(myUrl+\"&vjk=\"+temp)\n",
    "    jobs.append(temp)\n",
    "jobs"
   ]
  },
  {
   "cell_type": "code",
   "execution_count": 54,
   "metadata": {},
   "outputs": [
    {
     "data": {
      "text/plain": [
       "['https://www.indeed.com/jobs?q=computer+science&l=Clovis&vjk=e31d6d8a7ab398ff',\n",
       " 'https://www.indeed.com/jobs?q=computer+science&l=Clovis&vjk=29b56b2ad42143b4',\n",
       " 'https://www.indeed.com/jobs?q=computer+science&l=Clovis&vjk=631e1ce033a321ca',\n",
       " 'https://www.indeed.com/jobs?q=computer+science&l=Clovis&vjk=b17704bfd332f140',\n",
       " 'https://www.indeed.com/jobs?q=computer+science&l=Clovis&vjk=250836bcdf67ba39',\n",
       " 'https://www.indeed.com/jobs?q=computer+science&l=Clovis&vjk=d6687ae4a2118125',\n",
       " 'https://www.indeed.com/jobs?q=computer+science&l=Clovis&vjk=c3b10c4ce8e3aa7f',\n",
       " 'https://www.indeed.com/jobs?q=computer+science&l=Clovis&vjk=b3eb65b1d53899aa',\n",
       " 'https://www.indeed.com/jobs?q=computer+science&l=Clovis&vjk=4f66cb79568bfbc2',\n",
       " 'https://www.indeed.com/jobs?q=computer+science&l=Clovis&vjk=848039c05413b99b',\n",
       " 'https://www.indeed.com/jobs?q=computer+science&l=Clovis&vjk=df3aa6b18eaebfbe',\n",
       " 'https://www.indeed.com/jobs?q=computer+science&l=Clovis&vjk=020d5586beb99a78',\n",
       " 'https://www.indeed.com/jobs?q=computer+science&l=Clovis&vjk=28332b8f1914aa2f',\n",
       " 'https://www.indeed.com/jobs?q=computer+science&l=Clovis&vjk=affdae11e7053469',\n",
       " 'https://www.indeed.com/jobs?q=computer+science&l=Clovis&vjk=0ed43520304c9053',\n",
       " 'https://www.indeed.com/jobs?q=computer+science&l=Clovis&vjk=072e2d543b4a3b59',\n",
       " 'https://www.indeed.com/jobs?q=computer+science&l=Clovis&vjk=42285f4f9e8835f1',\n",
       " 'https://www.indeed.com/jobs?q=computer+science&l=Clovis&vjk=8e5fefe42336fd1c']"
      ]
     },
     "execution_count": 54,
     "metadata": {},
     "output_type": "execute_result"
    }
   ],
   "source": [
    "updated_url"
   ]
  },
  {
   "cell_type": "code",
   "execution_count": null,
   "metadata": {},
   "outputs": [],
   "source": []
  }
 ],
 "metadata": {
  "kernelspec": {
   "display_name": "Python 3",
   "language": "python",
   "name": "python3"
  },
  "language_info": {
   "codemirror_mode": {
    "name": "ipython",
    "version": 3
   },
   "file_extension": ".py",
   "mimetype": "text/x-python",
   "name": "python",
   "nbconvert_exporter": "python",
   "pygments_lexer": "ipython3",
   "version": "3.7.3"
  }
 },
 "nbformat": 4,
 "nbformat_minor": 2
}
