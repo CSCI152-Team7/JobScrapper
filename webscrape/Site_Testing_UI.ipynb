{
 "cells": [
  {
   "cell_type": "code",
   "execution_count": 147,
   "metadata": {},
   "outputs": [],
   "source": [
    "from selenium import webdriver\n",
    "from selenium.webdriver.common.keys import Keys\n",
    "from selenium.webdriver.common.by import By\n",
    "from selenium.common.exceptions import NoSuchElementException\n",
    "import pandas as pd\n",
    "import numpy as np\n",
    "import random\n",
    "import time\n",
    "import unittest"
   ]
  },
  {
   "cell_type": "code",
   "execution_count": 152,
   "metadata": {},
   "outputs": [],
   "source": [
    "#Must setup server with python manage.py runserver. Then run\n",
    "class Driver(unittest.TestCase):\n",
    "    \n",
    "    def setUp(self):#,organization,desc,location,salary,title,jobtitle)\n",
    "        profile=webdriver.FirefoxProfile()\n",
    "        # profile.set_preference(\"permissions.default.image\", 2)\n",
    "        self.driver = webdriver.Firefox(profile)\n",
    "        \n",
    "        \n",
    "  #  def test_loaded(self):\n",
    "        \n",
    "    \n",
    "    def test_check(self):\n",
    "        tmp=0\n",
    "        self.driver.get('http://127.0.0.1:8000/#')\n",
    "        title=self.driver.find_element_by_css_selector('h2')\n",
    "        title=title.get_attribute('innerText')\n",
    "        self.assertEqual(title,'JOB HUNT')        \n",
    "        \n",
    "        search=self.driver.find_elements_by_css_selector('li')\n",
    "        search=search[2:]\n",
    "        #CHANGE THIS FOR # OF TESTS DESIRED\n",
    "        num_time=list(range(30))\n",
    "        print(search)\n",
    "        for i in num_time:\n",
    "            try:\n",
    "                search=self.driver.find_elements_by_css_selector('li')\n",
    "                time.sleep(1.5)\n",
    "                e=random.randrange(0,3)\n",
    "                search[e].click()\n",
    "        \n",
    "                tmp+=1\n",
    "            except:\n",
    "                print('error')\n",
    "                \n",
    "            if(len(self.driver.find_elements_by_css_selector('button.collapsible')) >= 1):\n",
    "                r=random.randrange(0,3)\n",
    "                box = self.driver.find_elements_by_css_selector('button.collapsible')\n",
    "                box[r].click()\n",
    "            \n",
    "            if(len(self.driver.find_elements_by_css_selector('i.fa-plus-square')) >= 1):\n",
    "                s=random.randrange(0,10)\n",
    "                exp = self.driver.find_elements_by_css_selector('i.fa-plus-square')\n",
    "                exp[s].click()\n",
    "                \n",
    "        self.assertTrue(tmp == (len(num_time)))\n",
    "        \n",
    "    def test_login(self):\n",
    "        self.driver.get('http://127.0.0.1:8000/admin')\n",
    "        user=self.driver.find_element_by_css_selector('#id_username')\n",
    "        pw=self.driver.find_element_by_css_selector('#id_password')\n",
    "        user.send_keys('salvador')\n",
    "        pw.send_keys('incorrectpw')\n",
    "\n",
    "        self.driver.find_element_by_css_selector('div.submit-row input').click()\n",
    "        e=self.driver.find_element_by_css_selector('p.errornote')\n",
    "        errorMessage = e.get_attribute('innerText')\n",
    "            \n",
    "        self.assertEqual(errorMessage,'Please enter the correct username and ' \\\n",
    "            'password for a staff account. Note that both fields may be case-sensitive.')\n",
    "        #Error message displayed. We want this to happen as the credentials are bad\n",
    "        #verifies not anyone can log in\n",
    "                \n",
    "                "
   ]
  },
  {
   "cell_type": "code",
   "execution_count": 153,
   "metadata": {
    "scrolled": true
   },
   "outputs": [
    {
     "name": "stdout",
     "output_type": "stream",
     "text": [
      "[<selenium.webdriver.firefox.webelement.FirefoxWebElement (session=\"7f9a632d-f2b6-4060-8d4b-fd505769f1d6\", element=\"7eb630ad-391b-498c-96e1-37ebf087b3fe\")>]\n"
     ]
    },
    {
     "name": "stderr",
     "output_type": "stream",
     "text": [
      "..\n",
      "----------------------------------------------------------------------\n",
      "Ran 2 tests in 72.773s\n",
      "\n",
      "OK\n"
     ]
    },
    {
     "data": {
      "text/plain": [
       "<unittest.main.TestProgram at 0x1d62975bc18>"
      ]
     },
     "execution_count": 153,
     "metadata": {},
     "output_type": "execute_result"
    }
   ],
   "source": [
    "unittest.main(argv=['first-arg-is-ignored'], exit=False)"
   ]
  }
 ],
 "metadata": {
  "kernelspec": {
   "display_name": "Python 3",
   "language": "python",
   "name": "python3"
  },
  "language_info": {
   "codemirror_mode": {
    "name": "ipython",
    "version": 3
   },
   "file_extension": ".py",
   "mimetype": "text/x-python",
   "name": "python",
   "nbconvert_exporter": "python",
   "pygments_lexer": "ipython3",
   "version": "3.7.3"
  }
 },
 "nbformat": 4,
 "nbformat_minor": 2
}
