{
 "cells": [
  {
   "cell_type": "code",
   "execution_count": 7,
   "metadata": {},
   "outputs": [],
   "source": [
    "from urllib.request import urlopen as uReq\n",
    "from bs4 import BeautifulSoup as soup\n",
    "import requests\n",
    "import pandas as pd"
   ]
  },
  {
   "cell_type": "code",
   "execution_count": 8,
   "metadata": {},
   "outputs": [
    {
     "name": "stdout",
     "output_type": "stream",
     "text": [
      "Fresno\n",
      "Fresno\n"
     ]
    },
    {
     "data": {
      "text/plain": [
       "'https://www.indeed.com/jobs?q=computer+science&l=Fresno'"
      ]
     },
     "execution_count": 8,
     "metadata": {},
     "output_type": "execute_result"
    }
   ],
   "source": [
    "location = input()\n",
    "print(location)\n",
    "myUrl = 'https://www.indeed.com/jobs?q=computer+science&l='+location\n",
    "content = requests.get(myUrl)\n",
    "myUrl"
   ]
  },
  {
   "cell_type": "code",
   "execution_count": 9,
   "metadata": {},
   "outputs": [],
   "source": [
    "soup = soup(content.text, 'html.parser')"
   ]
  },
  {
   "cell_type": "code",
   "execution_count": 43,
   "metadata": {
    "scrolled": true
   },
   "outputs": [
    {
     "data": {
      "text/plain": [
       "['445a09fa9970f730',\n",
       " 'e31d6d8a7ab398ff',\n",
       " '29b56b2ad42143b4',\n",
       " 'a2e0bea388e88d60',\n",
       " 'bac5757646bd74d4',\n",
       " '698da951ca7b4d77',\n",
       " '020d5586beb99a78',\n",
       " '072e2d543b4a3b59',\n",
       " '14eaccf674509646',\n",
       " 'a3d53b004e692d83',\n",
       " '3b8210a6db2db6fa',\n",
       " '892b351f8d2b1547',\n",
       " '250836bcdf67ba39',\n",
       " '8e5fefe42336fd1c',\n",
       " 'd6687ae4a2118125']"
      ]
     },
     "execution_count": 43,
     "metadata": {},
     "output_type": "execute_result"
    }
   ],
   "source": [
    "jobs=[]\n",
    "jobs_id=[]\n",
    "jobs_name=[]\n",
    "jobs_location=[]\n",
    "jobs_company=[]\n",
    "\n",
    "updated_url=[]#\"&vjk=\"\n",
    "for link in soup.select('div.jobsearch-SerpJobCard'):\n",
    "    temp = (link.get('id').lstrip('p_'))\n",
    "    temp = temp.lstrip('j_')\n",
    "    updated_url.append(myUrl+\"&vjk=\"+temp)\n",
    "    jobs.append(temp)\n",
    "jobs"
   ]
  },
  {
   "cell_type": "code",
   "execution_count": 44,
   "metadata": {
    "scrolled": true
   },
   "outputs": [],
   "source": [
    "def getName(jobname):\n",
    "    for name in soup.select('div.title'):\n",
    "        jobname.append(name.text)\n",
    "def getLocation(joblocation):\n",
    "    for location in soup.select('.location.accessible-contrast-color-location'):\n",
    "        joblocation.append(location.text)\n",
    "def getCompany(jobcompany):\n",
    "    for company in soup.select('div > span.company'):\n",
    "        jobcompany.append(company.text)"
   ]
  },
  {
   "cell_type": "code",
   "execution_count": 45,
   "metadata": {},
   "outputs": [],
   "source": [
    "getName(jobs_name)\n",
    "getLocation(jobs_location)\n",
    "getCompany(jobs_company)"
   ]
  },
  {
   "cell_type": "code",
   "execution_count": 52,
   "metadata": {},
   "outputs": [
    {
     "data": {
      "text/html": [
       "<div>\n",
       "<style scoped>\n",
       "    .dataframe tbody tr th:only-of-type {\n",
       "        vertical-align: middle;\n",
       "    }\n",
       "\n",
       "    .dataframe tbody tr th {\n",
       "        vertical-align: top;\n",
       "    }\n",
       "\n",
       "    .dataframe thead th {\n",
       "        text-align: right;\n",
       "    }\n",
       "</style>\n",
       "<table border=\"1\" class=\"dataframe\">\n",
       "  <thead>\n",
       "    <tr style=\"text-align: right;\">\n",
       "      <th></th>\n",
       "      <th>job_name</th>\n",
       "      <th>job_location</th>\n",
       "      <th>job_company</th>\n",
       "      <th>link</th>\n",
       "    </tr>\n",
       "  </thead>\n",
       "  <tbody>\n",
       "    <tr>\n",
       "      <th>0</th>\n",
       "      <td>\\n\\nNetworking Specialist\\n</td>\n",
       "      <td>Fresno, CA 93721 (Central area)</td>\n",
       "      <td>\\nAgape'</td>\n",
       "      <td>https://www.indeed.com/jobs?q=computer+science...</td>\n",
       "    </tr>\n",
       "    <tr>\n",
       "      <th>1</th>\n",
       "      <td>\\n\\nTechnical Support Agent\\n</td>\n",
       "      <td>Fresno, CA 93711 (Bullard area)</td>\n",
       "      <td>\\nPelco USA Inc</td>\n",
       "      <td>https://www.indeed.com/jobs?q=computer+science...</td>\n",
       "    </tr>\n",
       "    <tr>\n",
       "      <th>2</th>\n",
       "      <td>\\n\\nEntry Level - Software Developer\\n</td>\n",
       "      <td>United States</td>\n",
       "      <td>\\nSmoothstack</td>\n",
       "      <td>https://www.indeed.com/jobs?q=computer+science...</td>\n",
       "    </tr>\n",
       "    <tr>\n",
       "      <th>3</th>\n",
       "      <td>\\n\\nComputer Systems Specialist III\\n</td>\n",
       "      <td>Fresno, CA</td>\n",
       "      <td>\\n\\nCity of Fresno</td>\n",
       "      <td>https://www.indeed.com/jobs?q=computer+science...</td>\n",
       "    </tr>\n",
       "    <tr>\n",
       "      <th>4</th>\n",
       "      <td>\\n\\nData Analyst\\n</td>\n",
       "      <td>Fresno, CA 93722 (West area)</td>\n",
       "      <td>\\nCENTRAL VALLEY REGION CENTER</td>\n",
       "      <td>https://www.indeed.com/jobs?q=computer+science...</td>\n",
       "    </tr>\n",
       "    <tr>\n",
       "      <th>5</th>\n",
       "      <td>\\n\\nETL Developer\\n</td>\n",
       "      <td>Fresno, CA 93721 (Central area)</td>\n",
       "      <td>\\nHealthComp, LLC</td>\n",
       "      <td>https://www.indeed.com/jobs?q=computer+science...</td>\n",
       "    </tr>\n",
       "    <tr>\n",
       "      <th>6</th>\n",
       "      <td>\\n\\nNetwork Systems Analyst I/II\\n</td>\n",
       "      <td>Fresno, CA 93726 (Hoover area)</td>\n",
       "      <td>\\n\\nSan Joaquin Valley Air Pollution Control D...</td>\n",
       "      <td>https://www.indeed.com/jobs?q=computer+science...</td>\n",
       "    </tr>\n",
       "    <tr>\n",
       "      <th>7</th>\n",
       "      <td>\\n\\nProgrammer/Analyst I/II\\n</td>\n",
       "      <td>Fresno, CA 93726 (Hoover area)</td>\n",
       "      <td>\\n\\nSan Joaquin Valley Air Pollution Control D...</td>\n",
       "      <td>https://www.indeed.com/jobs?q=computer+science...</td>\n",
       "    </tr>\n",
       "    <tr>\n",
       "      <th>8</th>\n",
       "      <td>\\n\\nDatabase Administrator\\n</td>\n",
       "      <td>Fresno, CA 93721 (Central area)</td>\n",
       "      <td>\\n\\nFresno Economic Opportunities Commission</td>\n",
       "      <td>https://www.indeed.com/jobs?q=computer+science...</td>\n",
       "    </tr>\n",
       "    <tr>\n",
       "      <th>9</th>\n",
       "      <td>\\n\\nCore Analyst\\n</td>\n",
       "      <td>Fresno, CA 93721 (Central area)</td>\n",
       "      <td>\\nUnited Security Bank</td>\n",
       "      <td>https://www.indeed.com/jobs?q=computer+science...</td>\n",
       "    </tr>\n",
       "    <tr>\n",
       "      <th>10</th>\n",
       "      <td>\\n\\nSoftware Engineer\\n</td>\n",
       "      <td>Fresno, CA 93711 (Bullard area)</td>\n",
       "      <td>\\nPelco USA Inc</td>\n",
       "      <td>https://www.indeed.com/jobs?q=computer+science...</td>\n",
       "    </tr>\n",
       "    <tr>\n",
       "      <th>11</th>\n",
       "      <td>\\n\\nSystem Engineer\\n</td>\n",
       "      <td>Fresno, CA</td>\n",
       "      <td>\\nKen Info Systems</td>\n",
       "      <td>https://www.indeed.com/jobs?q=computer+science...</td>\n",
       "    </tr>\n",
       "    <tr>\n",
       "      <th>12</th>\n",
       "      <td>\\n\\nPC Deskside Technician II\\n</td>\n",
       "      <td>Fresno, CA</td>\n",
       "      <td>\\n\\nABBTECH Professional Resources</td>\n",
       "      <td>https://www.indeed.com/jobs?q=computer+science...</td>\n",
       "    </tr>\n",
       "    <tr>\n",
       "      <th>13</th>\n",
       "      <td>\\n\\nOnline Computer Science Tutor\\n</td>\n",
       "      <td>United States</td>\n",
       "      <td>\\n\\nTutor.com</td>\n",
       "      <td>https://www.indeed.com/jobs?q=computer+science...</td>\n",
       "    </tr>\n",
       "    <tr>\n",
       "      <th>14</th>\n",
       "      <td>\\n\\nWeb Programmer\\n</td>\n",
       "      <td>California</td>\n",
       "      <td>\\nColbi Technologies</td>\n",
       "      <td>https://www.indeed.com/jobs?q=computer+science...</td>\n",
       "    </tr>\n",
       "  </tbody>\n",
       "</table>\n",
       "</div>"
      ],
      "text/plain": [
       "                                  job_name                     job_location  \\\n",
       "0              \\n\\nNetworking Specialist\\n  Fresno, CA 93721 (Central area)   \n",
       "1            \\n\\nTechnical Support Agent\\n  Fresno, CA 93711 (Bullard area)   \n",
       "2   \\n\\nEntry Level - Software Developer\\n                    United States   \n",
       "3    \\n\\nComputer Systems Specialist III\\n                       Fresno, CA   \n",
       "4                       \\n\\nData Analyst\\n     Fresno, CA 93722 (West area)   \n",
       "5                      \\n\\nETL Developer\\n  Fresno, CA 93721 (Central area)   \n",
       "6       \\n\\nNetwork Systems Analyst I/II\\n   Fresno, CA 93726 (Hoover area)   \n",
       "7            \\n\\nProgrammer/Analyst I/II\\n   Fresno, CA 93726 (Hoover area)   \n",
       "8             \\n\\nDatabase Administrator\\n  Fresno, CA 93721 (Central area)   \n",
       "9                       \\n\\nCore Analyst\\n  Fresno, CA 93721 (Central area)   \n",
       "10                 \\n\\nSoftware Engineer\\n  Fresno, CA 93711 (Bullard area)   \n",
       "11                   \\n\\nSystem Engineer\\n                       Fresno, CA   \n",
       "12         \\n\\nPC Deskside Technician II\\n                       Fresno, CA   \n",
       "13     \\n\\nOnline Computer Science Tutor\\n                    United States   \n",
       "14                    \\n\\nWeb Programmer\\n                       California   \n",
       "\n",
       "                                          job_company  \\\n",
       "0                                            \\nAgape'   \n",
       "1                                     \\nPelco USA Inc   \n",
       "2                                       \\nSmoothstack   \n",
       "3                                  \\n\\nCity of Fresno   \n",
       "4                      \\nCENTRAL VALLEY REGION CENTER   \n",
       "5                                   \\nHealthComp, LLC   \n",
       "6   \\n\\nSan Joaquin Valley Air Pollution Control D...   \n",
       "7   \\n\\nSan Joaquin Valley Air Pollution Control D...   \n",
       "8        \\n\\nFresno Economic Opportunities Commission   \n",
       "9                              \\nUnited Security Bank   \n",
       "10                                    \\nPelco USA Inc   \n",
       "11                                 \\nKen Info Systems   \n",
       "12                 \\n\\nABBTECH Professional Resources   \n",
       "13                                      \\n\\nTutor.com   \n",
       "14                               \\nColbi Technologies   \n",
       "\n",
       "                                                 link  \n",
       "0   https://www.indeed.com/jobs?q=computer+science...  \n",
       "1   https://www.indeed.com/jobs?q=computer+science...  \n",
       "2   https://www.indeed.com/jobs?q=computer+science...  \n",
       "3   https://www.indeed.com/jobs?q=computer+science...  \n",
       "4   https://www.indeed.com/jobs?q=computer+science...  \n",
       "5   https://www.indeed.com/jobs?q=computer+science...  \n",
       "6   https://www.indeed.com/jobs?q=computer+science...  \n",
       "7   https://www.indeed.com/jobs?q=computer+science...  \n",
       "8   https://www.indeed.com/jobs?q=computer+science...  \n",
       "9   https://www.indeed.com/jobs?q=computer+science...  \n",
       "10  https://www.indeed.com/jobs?q=computer+science...  \n",
       "11  https://www.indeed.com/jobs?q=computer+science...  \n",
       "12  https://www.indeed.com/jobs?q=computer+science...  \n",
       "13  https://www.indeed.com/jobs?q=computer+science...  \n",
       "14  https://www.indeed.com/jobs?q=computer+science...  "
      ]
     },
     "execution_count": 52,
     "metadata": {},
     "output_type": "execute_result"
    }
   ],
   "source": [
    "jobs_company\n",
    "data={'job_name':jobs_name,'job_location':jobs_location,\n",
    "      'job_company':jobs_company,'link':updated_url}\n",
    "df=pd.DataFrame(data)\n",
    "df.to_csv(\"out.csv\")\n",
    "df"
   ]
  }
 ],
 "metadata": {
  "kernelspec": {
   "display_name": "Python 3",
   "language": "python",
   "name": "python3"
  },
  "language_info": {
   "codemirror_mode": {
    "name": "ipython",
    "version": 3
   },
   "file_extension": ".py",
   "mimetype": "text/x-python",
   "name": "python",
   "nbconvert_exporter": "python",
   "pygments_lexer": "ipython3",
   "version": "3.7.3"
  }
 },
 "nbformat": 4,
 "nbformat_minor": 2
}
